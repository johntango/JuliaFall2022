{
 "cells": [
  {
   "cell_type": "code",
   "execution_count": null,
   "metadata": {},
   "outputs": [],
   "source": [
    "# House Sales Data, ETL, Build Predictive Model(linear regression), \n",
    "# Assess Model, Deploy Model. Training data  'house100Data.csv'\n",
    "# R^2 = 0.75  Price explained by the indep. variables\n",
    "import Pkg; Pkg.add(\"DataFrames\")\n",
    "Pkg.add(\"Missings\")\n",
    "Pkg.add(\"Plots\")\n",
    "Pkg.add(\"CSV\")\n",
    "Pkg.add(\"HTTP\")\n",
    "using DataFrames\n",
    "using CSV\n",
    "using Missings\n",
    "using Plots\n",
    "using HTTP\n",
    "using Statistics\n",
    "using LinearAlgebra"
   ]
  },
  {
   "cell_type": "markdown",
   "metadata": {},
   "source": [
    "### data_description.txt\n",
    "SalePrice — the property’s sale price in dollars. This is the target variable that you’re trying to predict.  \n",
    "MSSubClass — The building class  \n",
    "MSZoning — The general zoning classification \n",
    "MasVnrArea - Masonary Veneer Area in sq ft\n",
    "LotFrontage — Linear feet of street connected to property  \n",
    "LotArea — Lot size in square feet  \n",
    "Street — Type of road access  \n",
    "Alley — Type of alley access  \n",
    "LotShape — General shape of property  \n",
    "LandContour — Flatness of the property  \n",
    "Utilities — Type of utilities available  \n",
    "LotConfig — Lot configuration  "
   ]
  },
  {
   "cell_type": "markdown",
   "metadata": {},
   "source": [
    "$$Y = X\\beta + e $$"
   ]
  },
  {
   "cell_type": "code",
   "execution_count": null,
   "metadata": {},
   "outputs": [],
   "source": [
    "files = [ \n",
    "\"https://raw.githubusercontent.com/alicezehner/PS2HouseDataExercise/master/predictions.csv\",\n",
    "\"https://raw.githubusercontent.com/evaserman/PS2/main/predictions.csv\"\n",
    "]\n",
    "# get length of files\n",
    "filesLen = length(files)\n"
   ]
  },
  {
   "cell_type": "code",
   "execution_count": null,
   "metadata": {},
   "outputs": [],
   "source": [
    "\n",
    "# \"SalePrice\", \"SalePrice_1\" are the column names\n",
    "# get mean error for each file\n",
    "# get R^2 value. Metric to measure accuracy of model\n",
    "function getR2Accuracy(Y, Yp)\n",
    "    # get number of rows\n",
    "    m = size(Y)[1]\n",
    "    # get mean of Y\n",
    "    Ymean = mean(Y)\n",
    "    # get sum of squared errors\n",
    "    SSE = sum((Y - Yp).^2)\n",
    "    # get sum of squared total\n",
    "    SST = sum((Ymean .-Y).^2)  # note the dot operator and order of subtraction\n",
    "    # get R^2\n",
    "    R2 = 1 - SSE/SST\n",
    "    return R2\n",
    "end \n"
   ]
  },
  {
   "cell_type": "code",
   "execution_count": null,
   "metadata": {},
   "outputs": [],
   "source": [
    "# Julia CSV read actual price data into DataFrame\n",
    "# compare predicted price to actual price using R2\n",
    "\n",
    "actual = CSV.read(\"alldata.csv\",DataFrame)\n",
    "# pick out the Id and SalePrice columns from actual\n",
    "select!(actual, [:Id, :SalePrice])\n",
    "# print actual names\n",
    "print(names(actual))\n",
    "\n",
    "\n",
    "for i in 1:filesLen\n",
    "    \n",
    "    url = files[i]\n",
    "    print(\"url: \",url,\"\\n\")\n",
    "    # Julia CSV read url into DataFrame \n",
    "    res = HTTP.get(url)\n",
    "    data = CSV.read(res.body,DataFrame)\n",
    "   \n",
    "   \n",
    "    # Julia DataFrames join two dataframes data and actual on Id\n",
    "    df = innerjoin(data,actual, on=:Id, makeunique=true)\n",
    "    # Julia DataFrames drop rows with missing values\n",
    "    print(\"names : \",names(df),\"\\n\")\n",
    "    print(\"size : \",size(df),\"\\n\")\n",
    "    print(\"R2 accuracy: \",getR2Accuracy(df.SalePrice, df.SalePrice_1),\"\\n\")\n",
    "end\n",
    "    \n",
    "    \n",
    "\n"
   ]
  },
  {
   "cell_type": "code",
   "execution_count": null,
   "metadata": {},
   "outputs": [],
   "source": [
    "\n",
    "print(f\" RME: {meanError(df):.2f} RMLE: {meanLogError(df):.3f}\")\n",
    "except pd.errors.EmptyDataError:\n",
    "    print(files[i], \" is empty\")"
   ]
  }
 ],
 "metadata": {
  "kernelspec": {
   "display_name": "Julia 1.7.1",
   "language": "julia",
   "name": "julia-1.7"
  },
  "language_info": {
   "file_extension": ".jl",
   "mimetype": "application/julia",
   "name": "julia",
   "version": "1.7.1"
  },
  "vscode": {
   "interpreter": {
    "hash": "949777d72b0d2535278d3dc13498b2535136f6dfe0678499012e853ee9abcab1"
   }
  }
 },
 "nbformat": 4,
 "nbformat_minor": 4
}
