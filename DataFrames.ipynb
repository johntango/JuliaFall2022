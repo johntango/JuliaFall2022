{
 "cells": [
  {
   "cell_type": "code",
   "execution_count": 92,
   "metadata": {},
   "outputs": [
    {
     "name": "stderr",
     "output_type": "stream",
     "text": [
      "\u001b[32m\u001b[1m   Resolving\u001b[22m\u001b[39m package versions...\n",
      "\u001b[32m\u001b[1m  No Changes\u001b[22m\u001b[39m to `~/.julia/environments/v1.7/Project.toml`\n",
      "\u001b[32m\u001b[1m  No Changes\u001b[22m\u001b[39m to `~/.julia/environments/v1.7/Manifest.toml`\n",
      "\u001b[32m\u001b[1m   Resolving\u001b[22m\u001b[39m package versions...\n",
      "\u001b[32m\u001b[1m  No Changes\u001b[22m\u001b[39m to `~/.julia/environments/v1.7/Project.toml`\n",
      "\u001b[32m\u001b[1m  No Changes\u001b[22m\u001b[39m to `~/.julia/environments/v1.7/Manifest.toml`\n",
      "\u001b[32m\u001b[1m   Resolving\u001b[22m\u001b[39m package versions...\n",
      "\u001b[32m\u001b[1m  No Changes\u001b[22m\u001b[39m to `~/.julia/environments/v1.7/Project.toml`\n",
      "\u001b[32m\u001b[1m  No Changes\u001b[22m\u001b[39m to `~/.julia/environments/v1.7/Manifest.toml`\n"
     ]
    }
   ],
   "source": [
    "import Pkg; Pkg.add(\"DataFrames\")\n",
    "Pkg.add(\"Missings\")\n",
    "Pkg.add(\"CSV\")\n",
    "using DataFrames\n",
    "using CSV\n",
    "using Missings"
   ]
  },
  {
   "cell_type": "code",
   "execution_count": 3,
   "metadata": {},
   "outputs": [
    {
     "data": {
      "text/plain": [
       "(:H => [5, 10], :J => [10, 15])"
      ]
     },
     "execution_count": 3,
     "metadata": {},
     "output_type": "execute_result"
    }
   ],
   "source": [
    "tuples = (:H => [5, 10], :J => [10, 15])"
   ]
  },
  {
   "cell_type": "code",
   "execution_count": 7,
   "metadata": {},
   "outputs": [
    {
     "data": {
      "text/plain": [
       "Tuple{Pair{Symbol, Vector{Int64}}, Pair{Symbol, Vector{Int64}}}"
      ]
     },
     "execution_count": 7,
     "metadata": {},
     "output_type": "execute_result"
    }
   ],
   "source": [
    "typeof(tuples)"
   ]
  },
  {
   "cell_type": "code",
   "execution_count": 8,
   "metadata": {},
   "outputs": [
    {
     "data": {
      "text/html": [
       "<div class=\"data-frame\"><p>2 rows × 2 columns</p><table class=\"data-frame\"><thead><tr><th></th><th>first</th><th>second</th></tr><tr><th></th><th title=\"Symbol\">Symbol</th><th title=\"Vector{Int64}\">Array…</th></tr></thead><tbody><tr><th>1</th><td>H</td><td>[5, 10]</td></tr><tr><th>2</th><td>J</td><td>[10, 15]</td></tr></tbody></table></div>"
      ],
      "text/latex": [
       "\\begin{tabular}{r|cc}\n",
       "\t& first & second\\\\\n",
       "\t\\hline\n",
       "\t& Symbol & Array…\\\\\n",
       "\t\\hline\n",
       "\t1 & H & [5, 10] \\\\\n",
       "\t2 & J & [10, 15] \\\\\n",
       "\\end{tabular}\n"
      ],
      "text/plain": [
       "\u001b[1m2×2 DataFrame\u001b[0m\n",
       "\u001b[1m Row \u001b[0m│\u001b[1m first  \u001b[0m\u001b[1m second   \u001b[0m\n",
       "\u001b[1m     \u001b[0m│\u001b[90m Symbol \u001b[0m\u001b[90m Array…   \u001b[0m\n",
       "─────┼──────────────────\n",
       "   1 │ H       [5, 10]\n",
       "   2 │ J       [10, 15]"
      ]
     },
     "execution_count": 8,
     "metadata": {},
     "output_type": "execute_result"
    }
   ],
   "source": [
    "df = DataFrame(tuples)"
   ]
  },
  {
   "cell_type": "code",
   "execution_count": 6,
   "metadata": {},
   "outputs": [
    {
     "data": {
      "text/plain": [
       "Dict{Symbol,Array{Int64,1}} with 2 entries:\n",
       "  :H => [5, 10, 15, 20]\n",
       "  :J => [1, 2, 3, 4]"
      ]
     },
     "execution_count": 6,
     "metadata": {},
     "output_type": "execute_result"
    }
   ],
   "source": [
    "dict = Dict(:H => [5, 10, 15, 20], :J => [1, 2, 3, 4])"
   ]
  },
  {
   "cell_type": "code",
   "execution_count": 7,
   "metadata": {},
   "outputs": [
    {
     "data": {
      "text/plain": [
       "Dict{Symbol,Array{Int64,1}}"
      ]
     },
     "execution_count": 7,
     "metadata": {},
     "output_type": "execute_result"
    }
   ],
   "source": [
    "typeof(dict)"
   ]
  },
  {
   "cell_type": "code",
   "execution_count": 8,
   "metadata": {},
   "outputs": [
    {
     "data": {
      "text/html": [
       "<table class=\"data-frame\"><thead><tr><th></th><th>H</th><th>J</th></tr><tr><th></th><th>Int64</th><th>Int64</th></tr></thead><tbody><p>4 rows × 2 columns</p><tr><th>1</th><td>5</td><td>1</td></tr><tr><th>2</th><td>10</td><td>2</td></tr><tr><th>3</th><td>15</td><td>3</td></tr><tr><th>4</th><td>20</td><td>4</td></tr></tbody></table>"
      ],
      "text/latex": [
       "\\begin{tabular}{r|cc}\n",
       "\t& H & J\\\\\n",
       "\t\\hline\n",
       "\t& Int64 & Int64\\\\\n",
       "\t\\hline\n",
       "\t1 & 5 & 1 \\\\\n",
       "\t2 & 10 & 2 \\\\\n",
       "\t3 & 15 & 3 \\\\\n",
       "\t4 & 20 & 4 \\\\\n",
       "\\end{tabular}\n"
      ],
      "text/plain": [
       "\u001b[1m4×2 DataFrame\u001b[0m\n",
       "\u001b[1m Row \u001b[0m│\u001b[1m H     \u001b[0m\u001b[1m J     \u001b[0m\n",
       "\u001b[1m     \u001b[0m│\u001b[90m Int64 \u001b[0m\u001b[90m Int64 \u001b[0m\n",
       "─────┼──────────────\n",
       "   1 │     5      1\n",
       "   2 │    10      2\n",
       "   3 │    15      3\n",
       "   4 │    20      4"
      ]
     },
     "execution_count": 8,
     "metadata": {},
     "output_type": "execute_result"
    }
   ],
   "source": [
    "df = DataFrame(dict)"
   ]
  },
  {
   "cell_type": "code",
   "execution_count": 6,
   "metadata": {},
   "outputs": [
    {
     "data": {
      "text/html": [
       "<div class=\"data-frame\"><p>100 rows × 82 columns (omitted printing of 73 columns)</p><table class=\"data-frame\"><thead><tr><th></th><th>Column1</th><th>Id</th><th>MSSubClass</th><th>MSZoning</th><th>LotFrontage</th><th>LotArea</th><th>Street</th><th>Alley</th><th>LotShape</th></tr><tr><th></th><th title=\"Int64\">Int64</th><th title=\"Int64\">Int64</th><th title=\"Int64\">Int64</th><th title=\"String7\">String7</th><th title=\"Union{Missing, Float64}\">Float64?</th><th title=\"Int64\">Int64</th><th title=\"String7\">String7</th><th title=\"Union{Missing, String7}\">String7?</th><th title=\"String3\">String3</th></tr></thead><tbody><tr><th>1</th><td>0</td><td>1</td><td>60</td><td>RL</td><td>65.0</td><td>8450</td><td>Pave</td><td><em>missing</em></td><td>Reg</td></tr><tr><th>2</th><td>1</td><td>2</td><td>20</td><td>RL</td><td>80.0</td><td>9600</td><td>Pave</td><td><em>missing</em></td><td>Reg</td></tr><tr><th>3</th><td>2</td><td>3</td><td>60</td><td>RL</td><td>68.0</td><td>11250</td><td>Pave</td><td><em>missing</em></td><td>IR1</td></tr><tr><th>4</th><td>3</td><td>4</td><td>70</td><td>RL</td><td>60.0</td><td>9550</td><td>Pave</td><td><em>missing</em></td><td>IR1</td></tr><tr><th>5</th><td>4</td><td>5</td><td>60</td><td>RL</td><td>84.0</td><td>14260</td><td>Pave</td><td><em>missing</em></td><td>IR1</td></tr><tr><th>6</th><td>5</td><td>6</td><td>50</td><td>RL</td><td>85.0</td><td>14115</td><td>Pave</td><td><em>missing</em></td><td>IR1</td></tr><tr><th>7</th><td>6</td><td>7</td><td>20</td><td>RL</td><td>75.0</td><td>10084</td><td>Pave</td><td><em>missing</em></td><td>Reg</td></tr><tr><th>8</th><td>7</td><td>8</td><td>60</td><td>RL</td><td><em>missing</em></td><td>10382</td><td>Pave</td><td><em>missing</em></td><td>IR1</td></tr><tr><th>9</th><td>8</td><td>9</td><td>50</td><td>RM</td><td>51.0</td><td>6120</td><td>Pave</td><td><em>missing</em></td><td>Reg</td></tr><tr><th>10</th><td>9</td><td>10</td><td>190</td><td>RL</td><td>50.0</td><td>7420</td><td>Pave</td><td><em>missing</em></td><td>Reg</td></tr><tr><th>11</th><td>10</td><td>11</td><td>20</td><td>RL</td><td>70.0</td><td>11200</td><td>Pave</td><td><em>missing</em></td><td>Reg</td></tr><tr><th>12</th><td>11</td><td>12</td><td>60</td><td>RL</td><td>85.0</td><td>11924</td><td>Pave</td><td><em>missing</em></td><td>IR1</td></tr><tr><th>13</th><td>12</td><td>13</td><td>20</td><td>RL</td><td><em>missing</em></td><td>12968</td><td>Pave</td><td><em>missing</em></td><td>IR2</td></tr><tr><th>14</th><td>13</td><td>14</td><td>20</td><td>RL</td><td>91.0</td><td>10652</td><td>Pave</td><td><em>missing</em></td><td>IR1</td></tr><tr><th>15</th><td>14</td><td>15</td><td>20</td><td>RL</td><td><em>missing</em></td><td>10920</td><td>Pave</td><td><em>missing</em></td><td>IR1</td></tr><tr><th>16</th><td>15</td><td>16</td><td>45</td><td>RM</td><td>51.0</td><td>6120</td><td>Pave</td><td><em>missing</em></td><td>Reg</td></tr><tr><th>17</th><td>16</td><td>17</td><td>20</td><td>RL</td><td><em>missing</em></td><td>11241</td><td>Pave</td><td><em>missing</em></td><td>IR1</td></tr><tr><th>18</th><td>17</td><td>18</td><td>90</td><td>RL</td><td>72.0</td><td>10791</td><td>Pave</td><td><em>missing</em></td><td>Reg</td></tr><tr><th>19</th><td>18</td><td>19</td><td>20</td><td>RL</td><td>66.0</td><td>13695</td><td>Pave</td><td><em>missing</em></td><td>Reg</td></tr><tr><th>20</th><td>19</td><td>20</td><td>20</td><td>RL</td><td>70.0</td><td>7560</td><td>Pave</td><td><em>missing</em></td><td>Reg</td></tr><tr><th>21</th><td>20</td><td>21</td><td>60</td><td>RL</td><td>101.0</td><td>14215</td><td>Pave</td><td><em>missing</em></td><td>IR1</td></tr><tr><th>22</th><td>21</td><td>22</td><td>45</td><td>RM</td><td>57.0</td><td>7449</td><td>Pave</td><td>Grvl</td><td>Reg</td></tr><tr><th>23</th><td>22</td><td>23</td><td>20</td><td>RL</td><td>75.0</td><td>9742</td><td>Pave</td><td><em>missing</em></td><td>Reg</td></tr><tr><th>24</th><td>23</td><td>24</td><td>120</td><td>RM</td><td>44.0</td><td>4224</td><td>Pave</td><td><em>missing</em></td><td>Reg</td></tr><tr><th>25</th><td>24</td><td>25</td><td>20</td><td>RL</td><td><em>missing</em></td><td>8246</td><td>Pave</td><td><em>missing</em></td><td>IR1</td></tr><tr><th>26</th><td>25</td><td>26</td><td>20</td><td>RL</td><td>110.0</td><td>14230</td><td>Pave</td><td><em>missing</em></td><td>Reg</td></tr><tr><th>27</th><td>26</td><td>27</td><td>20</td><td>RL</td><td>60.0</td><td>7200</td><td>Pave</td><td><em>missing</em></td><td>Reg</td></tr><tr><th>28</th><td>27</td><td>28</td><td>20</td><td>RL</td><td>98.0</td><td>11478</td><td>Pave</td><td><em>missing</em></td><td>Reg</td></tr><tr><th>29</th><td>28</td><td>29</td><td>20</td><td>RL</td><td>47.0</td><td>16321</td><td>Pave</td><td><em>missing</em></td><td>IR1</td></tr><tr><th>30</th><td>29</td><td>30</td><td>30</td><td>RM</td><td>60.0</td><td>6324</td><td>Pave</td><td><em>missing</em></td><td>IR1</td></tr><tr><th>&vellip;</th><td>&vellip;</td><td>&vellip;</td><td>&vellip;</td><td>&vellip;</td><td>&vellip;</td><td>&vellip;</td><td>&vellip;</td><td>&vellip;</td><td>&vellip;</td></tr></tbody></table></div>"
      ],
      "text/latex": [
       "\\begin{tabular}{r|cccccccccc}\n",
       "\t& Column1 & Id & MSSubClass & MSZoning & LotFrontage & LotArea & Street & Alley & LotShape & \\\\\n",
       "\t\\hline\n",
       "\t& Int64 & Int64 & Int64 & String7 & Float64? & Int64 & String7 & String7? & String3 & \\\\\n",
       "\t\\hline\n",
       "\t1 & 0 & 1 & 60 & RL & 65.0 & 8450 & Pave & \\emph{missing} & Reg & $\\dots$ \\\\\n",
       "\t2 & 1 & 2 & 20 & RL & 80.0 & 9600 & Pave & \\emph{missing} & Reg & $\\dots$ \\\\\n",
       "\t3 & 2 & 3 & 60 & RL & 68.0 & 11250 & Pave & \\emph{missing} & IR1 & $\\dots$ \\\\\n",
       "\t4 & 3 & 4 & 70 & RL & 60.0 & 9550 & Pave & \\emph{missing} & IR1 & $\\dots$ \\\\\n",
       "\t5 & 4 & 5 & 60 & RL & 84.0 & 14260 & Pave & \\emph{missing} & IR1 & $\\dots$ \\\\\n",
       "\t6 & 5 & 6 & 50 & RL & 85.0 & 14115 & Pave & \\emph{missing} & IR1 & $\\dots$ \\\\\n",
       "\t7 & 6 & 7 & 20 & RL & 75.0 & 10084 & Pave & \\emph{missing} & Reg & $\\dots$ \\\\\n",
       "\t8 & 7 & 8 & 60 & RL & \\emph{missing} & 10382 & Pave & \\emph{missing} & IR1 & $\\dots$ \\\\\n",
       "\t9 & 8 & 9 & 50 & RM & 51.0 & 6120 & Pave & \\emph{missing} & Reg & $\\dots$ \\\\\n",
       "\t10 & 9 & 10 & 190 & RL & 50.0 & 7420 & Pave & \\emph{missing} & Reg & $\\dots$ \\\\\n",
       "\t11 & 10 & 11 & 20 & RL & 70.0 & 11200 & Pave & \\emph{missing} & Reg & $\\dots$ \\\\\n",
       "\t12 & 11 & 12 & 60 & RL & 85.0 & 11924 & Pave & \\emph{missing} & IR1 & $\\dots$ \\\\\n",
       "\t13 & 12 & 13 & 20 & RL & \\emph{missing} & 12968 & Pave & \\emph{missing} & IR2 & $\\dots$ \\\\\n",
       "\t14 & 13 & 14 & 20 & RL & 91.0 & 10652 & Pave & \\emph{missing} & IR1 & $\\dots$ \\\\\n",
       "\t15 & 14 & 15 & 20 & RL & \\emph{missing} & 10920 & Pave & \\emph{missing} & IR1 & $\\dots$ \\\\\n",
       "\t16 & 15 & 16 & 45 & RM & 51.0 & 6120 & Pave & \\emph{missing} & Reg & $\\dots$ \\\\\n",
       "\t17 & 16 & 17 & 20 & RL & \\emph{missing} & 11241 & Pave & \\emph{missing} & IR1 & $\\dots$ \\\\\n",
       "\t18 & 17 & 18 & 90 & RL & 72.0 & 10791 & Pave & \\emph{missing} & Reg & $\\dots$ \\\\\n",
       "\t19 & 18 & 19 & 20 & RL & 66.0 & 13695 & Pave & \\emph{missing} & Reg & $\\dots$ \\\\\n",
       "\t20 & 19 & 20 & 20 & RL & 70.0 & 7560 & Pave & \\emph{missing} & Reg & $\\dots$ \\\\\n",
       "\t21 & 20 & 21 & 60 & RL & 101.0 & 14215 & Pave & \\emph{missing} & IR1 & $\\dots$ \\\\\n",
       "\t22 & 21 & 22 & 45 & RM & 57.0 & 7449 & Pave & Grvl & Reg & $\\dots$ \\\\\n",
       "\t23 & 22 & 23 & 20 & RL & 75.0 & 9742 & Pave & \\emph{missing} & Reg & $\\dots$ \\\\\n",
       "\t24 & 23 & 24 & 120 & RM & 44.0 & 4224 & Pave & \\emph{missing} & Reg & $\\dots$ \\\\\n",
       "\t25 & 24 & 25 & 20 & RL & \\emph{missing} & 8246 & Pave & \\emph{missing} & IR1 & $\\dots$ \\\\\n",
       "\t26 & 25 & 26 & 20 & RL & 110.0 & 14230 & Pave & \\emph{missing} & Reg & $\\dots$ \\\\\n",
       "\t27 & 26 & 27 & 20 & RL & 60.0 & 7200 & Pave & \\emph{missing} & Reg & $\\dots$ \\\\\n",
       "\t28 & 27 & 28 & 20 & RL & 98.0 & 11478 & Pave & \\emph{missing} & Reg & $\\dots$ \\\\\n",
       "\t29 & 28 & 29 & 20 & RL & 47.0 & 16321 & Pave & \\emph{missing} & IR1 & $\\dots$ \\\\\n",
       "\t30 & 29 & 30 & 30 & RM & 60.0 & 6324 & Pave & \\emph{missing} & IR1 & $\\dots$ \\\\\n",
       "\t$\\dots$ & $\\dots$ & $\\dots$ & $\\dots$ & $\\dots$ & $\\dots$ & $\\dots$ & $\\dots$ & $\\dots$ & $\\dots$ &  \\\\\n",
       "\\end{tabular}\n"
      ],
      "text/plain": [
       "\u001b[1m100×82 DataFrame\u001b[0m\n",
       "\u001b[1m Row \u001b[0m│\u001b[1m Column1 \u001b[0m\u001b[1m Id    \u001b[0m\u001b[1m MSSubClass \u001b[0m\u001b[1m MSZoning \u001b[0m\u001b[1m LotFrontage \u001b[0m\u001b[1m LotArea \u001b[0m\u001b[1m Street  \u001b[0m\u001b[1m Al\u001b[0m ⋯\n",
       "\u001b[1m     \u001b[0m│\u001b[90m Int64   \u001b[0m\u001b[90m Int64 \u001b[0m\u001b[90m Int64      \u001b[0m\u001b[90m String7  \u001b[0m\u001b[90m Float64?    \u001b[0m\u001b[90m Int64   \u001b[0m\u001b[90m String7 \u001b[0m\u001b[90m St\u001b[0m ⋯\n",
       "─────┼──────────────────────────────────────────────────────────────────────────\n",
       "   1 │       0      1          60  RL               65.0     8450  Pave    \u001b[90m mi\u001b[0m ⋯\n",
       "   2 │       1      2          20  RL               80.0     9600  Pave    \u001b[90m mi\u001b[0m\n",
       "   3 │       2      3          60  RL               68.0    11250  Pave    \u001b[90m mi\u001b[0m\n",
       "   4 │       3      4          70  RL               60.0     9550  Pave    \u001b[90m mi\u001b[0m\n",
       "   5 │       4      5          60  RL               84.0    14260  Pave    \u001b[90m mi\u001b[0m ⋯\n",
       "   6 │       5      6          50  RL               85.0    14115  Pave    \u001b[90m mi\u001b[0m\n",
       "   7 │       6      7          20  RL               75.0    10084  Pave    \u001b[90m mi\u001b[0m\n",
       "   8 │       7      8          60  RL       \u001b[90m   missing   \u001b[0m   10382  Pave    \u001b[90m mi\u001b[0m\n",
       "   9 │       8      9          50  RM               51.0     6120  Pave    \u001b[90m mi\u001b[0m ⋯\n",
       "  10 │       9     10         190  RL               50.0     7420  Pave    \u001b[90m mi\u001b[0m\n",
       "  11 │      10     11          20  RL               70.0    11200  Pave    \u001b[90m mi\u001b[0m\n",
       "  ⋮  │    ⋮       ⋮        ⋮          ⋮           ⋮          ⋮        ⋮        ⋱\n",
       "  91 │      90     91          20  RL               60.0     7200  Pave    \u001b[90m mi\u001b[0m\n",
       "  92 │      91     92          20  RL               85.0     8500  Pave    \u001b[90m mi\u001b[0m ⋯\n",
       "  93 │      92     93          30  RL               80.0    13360  Pave     Gr\n",
       "  94 │      93     94         190  C (all)          60.0     7200  Pave    \u001b[90m mi\u001b[0m\n",
       "  95 │      94     95          60  RL               69.0     9337  Pave    \u001b[90m mi\u001b[0m\n",
       "  96 │      95     96          60  RL       \u001b[90m   missing   \u001b[0m    9765  Pave    \u001b[90m mi\u001b[0m ⋯\n",
       "  97 │      96     97          20  RL               78.0    10264  Pave    \u001b[90m mi\u001b[0m\n",
       "  98 │      97     98          20  RL               73.0    10921  Pave    \u001b[90m mi\u001b[0m\n",
       "  99 │      98     99          30  RL               85.0    10625  Pave    \u001b[90m mi\u001b[0m\n",
       " 100 │      99    100          20  RL               77.0     9320  Pave    \u001b[90m mi\u001b[0m ⋯\n",
       "\u001b[36m                                                  75 columns and 79 rows omitted\u001b[0m"
      ]
     },
     "execution_count": 6,
     "metadata": {},
     "output_type": "execute_result"
    }
   ],
   "source": [
    "using DataFrames; df = CSV.read(\"house100Data.csv\", DataFrame)"
   ]
  },
  {
   "cell_type": "code",
   "execution_count": 8,
   "metadata": {},
   "outputs": [
    {
     "data": {
      "text/html": [
       "<div class=\"data-frame\"><p>4 rows × 2 columns</p><table class=\"data-frame\"><thead><tr><th></th><th>X</th><th>Y</th></tr><tr><th></th><th title=\"Int64\">Int64</th><th title=\"Int64\">Int64</th></tr></thead><tbody><tr><th>1</th><td>5</td><td>5</td></tr><tr><th>2</th><td>10</td><td>10</td></tr><tr><th>3</th><td>15</td><td>15</td></tr><tr><th>4</th><td>20</td><td>20</td></tr></tbody></table></div>"
      ],
      "text/latex": [
       "\\begin{tabular}{r|cc}\n",
       "\t& X & Y\\\\\n",
       "\t\\hline\n",
       "\t& Int64 & Int64\\\\\n",
       "\t\\hline\n",
       "\t1 & 5 & 5 \\\\\n",
       "\t2 & 10 & 10 \\\\\n",
       "\t3 & 15 & 15 \\\\\n",
       "\t4 & 20 & 20 \\\\\n",
       "\\end{tabular}\n"
      ],
      "text/plain": [
       "\u001b[1m4×2 DataFrame\u001b[0m\n",
       "\u001b[1m Row \u001b[0m│\u001b[1m X     \u001b[0m\u001b[1m Y     \u001b[0m\n",
       "\u001b[1m     \u001b[0m│\u001b[90m Int64 \u001b[0m\u001b[90m Int64 \u001b[0m\n",
       "─────┼──────────────\n",
       "   1 │     5      5\n",
       "   2 │    10     10\n",
       "   3 │    15     15\n",
       "   4 │    20     20"
      ]
     },
     "execution_count": 8,
     "metadata": {},
     "output_type": "execute_result"
    }
   ],
   "source": [
    "df = DataFrame(:X => [5,10,15,20], :Y => [5,10,15,20])"
   ]
  },
  {
   "cell_type": "code",
   "execution_count": 11,
   "metadata": {},
   "outputs": [
    {
     "data": {
      "text/html": [
       "<div class=\"data-frame\"><p>5 rows × 2 columns</p><table class=\"data-frame\"><thead><tr><th></th><th>X</th><th>Y</th></tr><tr><th></th><th title=\"Int64\">Int64</th><th title=\"Int64\">Int64</th></tr></thead><tbody><tr><th>1</th><td>5</td><td>5</td></tr><tr><th>2</th><td>10</td><td>10</td></tr><tr><th>3</th><td>15</td><td>15</td></tr><tr><th>4</th><td>20</td><td>20</td></tr><tr><th>5</th><td>10</td><td>15</td></tr></tbody></table></div>"
      ],
      "text/latex": [
       "\\begin{tabular}{r|cc}\n",
       "\t& X & Y\\\\\n",
       "\t\\hline\n",
       "\t& Int64 & Int64\\\\\n",
       "\t\\hline\n",
       "\t1 & 5 & 5 \\\\\n",
       "\t2 & 10 & 10 \\\\\n",
       "\t3 & 15 & 15 \\\\\n",
       "\t4 & 20 & 20 \\\\\n",
       "\t5 & 10 & 15 \\\\\n",
       "\\end{tabular}\n"
      ],
      "text/plain": [
       "\u001b[1m5×2 DataFrame\u001b[0m\n",
       "\u001b[1m Row \u001b[0m│\u001b[1m X     \u001b[0m\u001b[1m Y     \u001b[0m\n",
       "\u001b[1m     \u001b[0m│\u001b[90m Int64 \u001b[0m\u001b[90m Int64 \u001b[0m\n",
       "─────┼──────────────\n",
       "   1 │     5      5\n",
       "   2 │    10     10\n",
       "   3 │    15     15\n",
       "   4 │    20     20\n",
       "   5 │    10     15"
      ]
     },
     "execution_count": 11,
     "metadata": {},
     "output_type": "execute_result"
    }
   ],
   "source": [
    "push!(df, [10, 15])"
   ]
  },
  {
   "cell_type": "code",
   "execution_count": 12,
   "metadata": {},
   "outputs": [
    {
     "data": {
      "text/plain": [
       "5-element Vector{Int64}:\n",
       "  5\n",
       " 10\n",
       " 15\n",
       " 20\n",
       " 10"
      ]
     },
     "execution_count": 12,
     "metadata": {},
     "output_type": "execute_result"
    }
   ],
   "source": [
    "# Child of struct:\n",
    "df.X"
   ]
  },
  {
   "cell_type": "code",
   "execution_count": 13,
   "metadata": {},
   "outputs": [
    {
     "data": {
      "text/plain": [
       "5-element Vector{Int64}:\n",
       "  5\n",
       " 10\n",
       " 15\n",
       " 20\n",
       " 10"
      ]
     },
     "execution_count": 13,
     "metadata": {},
     "output_type": "execute_result"
    }
   ],
   "source": [
    "# Key:\n",
    "df[!, :X]"
   ]
  },
  {
   "cell_type": "code",
   "execution_count": 14,
   "metadata": {},
   "outputs": [
    {
     "data": {
      "text/plain": [
       "2-element Vector{String}:\n",
       " \"X\"\n",
       " \"Y\""
      ]
     },
     "execution_count": 14,
     "metadata": {},
     "output_type": "execute_result"
    }
   ],
   "source": [
    "names(df)"
   ]
  },
  {
   "cell_type": "code",
   "execution_count": 15,
   "metadata": {},
   "outputs": [
    {
     "data": {
      "text/plain": [
       "5-element Vector{Int64}:\n",
       " 1\n",
       " 2\n",
       " 3\n",
       " 4\n",
       " 5"
      ]
     },
     "execution_count": 15,
     "metadata": {},
     "output_type": "execute_result"
    }
   ],
   "source": [
    "df[!, :Z] = [1, 2, 3, 4, 5]"
   ]
  },
  {
   "cell_type": "code",
   "execution_count": 16,
   "metadata": {},
   "outputs": [
    {
     "name": "stdout",
     "output_type": "stream",
     "text": [
      "\u001b[1m5×3 DataFrame\u001b[0m\n",
      "\u001b[1m Row \u001b[0m│\u001b[1m X     \u001b[0m\u001b[1m Y     \u001b[0m\u001b[1m Z     \u001b[0m\n",
      "\u001b[1m     \u001b[0m│\u001b[90m Int64 \u001b[0m\u001b[90m Int64 \u001b[0m\u001b[90m Int64 \u001b[0m\n",
      "─────┼─────────────────────\n",
      "   1 │     5      5      1\n",
      "   2 │    10     10      2\n",
      "   3 │    15     15      3\n",
      "   4 │    20     20      4\n",
      "   5 │    10     15      5"
     ]
    }
   ],
   "source": [
    "show(df)"
   ]
  },
  {
   "cell_type": "code",
   "execution_count": 18,
   "metadata": {},
   "outputs": [
    {
     "name": "stdout",
     "output_type": "stream",
     "text": [
      "\u001b[1m5×3 DataFrame\u001b[0m\n",
      "\u001b[1m Row \u001b[0m│\u001b[1m X     \u001b[0m\u001b[1m Y     \u001b[0m\u001b[1m Z     \u001b[0m\n",
      "\u001b[1m     \u001b[0m│\u001b[90m Int64 \u001b[0m\u001b[90m Int64 \u001b[0m\u001b[90m Int64 \u001b[0m\n",
      "─────┼─────────────────────\n",
      "   1 │     5      5      1\n",
      "   2 │    10     10      2\n",
      "   3 │    15     15      3\n",
      "   4 │    20     20      4\n",
      "   5 │    10     15      5"
     ]
    }
   ],
   "source": [
    "show(df, allcols = true)"
   ]
  },
  {
   "cell_type": "code",
   "execution_count": 19,
   "metadata": {},
   "outputs": [
    {
     "data": {
      "text/html": [
       "<table class=\"data-frame\"><thead><tr><th></th><th>X</th><th>Y</th><th>Z</th></tr><tr><th></th><th>Int64</th><th>Int64</th><th>Int64</th></tr></thead><tbody><p>2 rows × 3 columns</p><tr><th>1</th><td>5</td><td>5</td><td>1</td></tr><tr><th>2</th><td>10</td><td>10</td><td>2</td></tr></tbody></table>"
      ],
      "text/latex": [
       "\\begin{tabular}{r|ccc}\n",
       "\t& X & Y & Z\\\\\n",
       "\t\\hline\n",
       "\t& Int64 & Int64 & Int64\\\\\n",
       "\t\\hline\n",
       "\t1 & 5 & 5 & 1 \\\\\n",
       "\t2 & 10 & 10 & 2 \\\\\n",
       "\\end{tabular}\n"
      ],
      "text/plain": [
       "\u001b[1m2×3 DataFrame\u001b[0m\n",
       "\u001b[1m Row \u001b[0m│\u001b[1m X     \u001b[0m\u001b[1m Y     \u001b[0m\u001b[1m Z     \u001b[0m\n",
       "\u001b[1m     \u001b[0m│\u001b[90m Int64 \u001b[0m\u001b[90m Int64 \u001b[0m\u001b[90m Int64 \u001b[0m\n",
       "─────┼─────────────────────\n",
       "   1 │     5      5      1\n",
       "   2 │    10     10      2"
      ]
     },
     "execution_count": 19,
     "metadata": {},
     "output_type": "execute_result"
    }
   ],
   "source": [
    "first(df, 2)"
   ]
  },
  {
   "cell_type": "code",
   "execution_count": 20,
   "metadata": {},
   "outputs": [
    {
     "data": {
      "text/html": [
       "<table class=\"data-frame\"><thead><tr><th></th><th>X</th><th>Y</th><th>Z</th></tr><tr><th></th><th>Int64</th><th>Int64</th><th>Int64</th></tr></thead><tbody><p>3 rows × 3 columns</p><tr><th>1</th><td>15</td><td>15</td><td>3</td></tr><tr><th>2</th><td>20</td><td>20</td><td>4</td></tr><tr><th>3</th><td>10</td><td>15</td><td>5</td></tr></tbody></table>"
      ],
      "text/latex": [
       "\\begin{tabular}{r|ccc}\n",
       "\t& X & Y & Z\\\\\n",
       "\t\\hline\n",
       "\t& Int64 & Int64 & Int64\\\\\n",
       "\t\\hline\n",
       "\t1 & 15 & 15 & 3 \\\\\n",
       "\t2 & 20 & 20 & 4 \\\\\n",
       "\t3 & 10 & 15 & 5 \\\\\n",
       "\\end{tabular}\n"
      ],
      "text/plain": [
       "\u001b[1m3×3 DataFrame\u001b[0m\n",
       "\u001b[1m Row \u001b[0m│\u001b[1m X     \u001b[0m\u001b[1m Y     \u001b[0m\u001b[1m Z     \u001b[0m\n",
       "\u001b[1m     \u001b[0m│\u001b[90m Int64 \u001b[0m\u001b[90m Int64 \u001b[0m\u001b[90m Int64 \u001b[0m\n",
       "─────┼─────────────────────\n",
       "   1 │    15     15      3\n",
       "   2 │    20     20      4\n",
       "   3 │    10     15      5"
      ]
     },
     "execution_count": 20,
     "metadata": {},
     "output_type": "execute_result"
    }
   ],
   "source": [
    "last(df, 3)"
   ]
  },
  {
   "cell_type": "code",
   "execution_count": 21,
   "metadata": {},
   "outputs": [
    {
     "data": {
      "text/html": [
       "<table class=\"data-frame\"><thead><tr><th></th><th>X</th><th>Y</th><th>Z</th></tr><tr><th></th><th>Int64</th><th>Int64</th><th>Int64</th></tr></thead><tbody><p>3 rows × 3 columns</p><tr><th>1</th><td>10</td><td>10</td><td>2</td></tr><tr><th>2</th><td>15</td><td>15</td><td>3</td></tr><tr><th>3</th><td>20</td><td>20</td><td>4</td></tr></tbody></table>"
      ],
      "text/latex": [
       "\\begin{tabular}{r|ccc}\n",
       "\t& X & Y & Z\\\\\n",
       "\t\\hline\n",
       "\t& Int64 & Int64 & Int64\\\\\n",
       "\t\\hline\n",
       "\t1 & 10 & 10 & 2 \\\\\n",
       "\t2 & 15 & 15 & 3 \\\\\n",
       "\t3 & 20 & 20 & 4 \\\\\n",
       "\\end{tabular}\n"
      ],
      "text/plain": [
       "\u001b[1m3×3 DataFrame\u001b[0m\n",
       "\u001b[1m Row \u001b[0m│\u001b[1m X     \u001b[0m\u001b[1m Y     \u001b[0m\u001b[1m Z     \u001b[0m\n",
       "\u001b[1m     \u001b[0m│\u001b[90m Int64 \u001b[0m\u001b[90m Int64 \u001b[0m\u001b[90m Int64 \u001b[0m\n",
       "─────┼─────────────────────\n",
       "   1 │    10     10      2\n",
       "   2 │    15     15      3\n",
       "   3 │    20     20      4"
      ]
     },
     "execution_count": 21,
     "metadata": {},
     "output_type": "execute_result"
    }
   ],
   "source": [
    "df[2:4, :]"
   ]
  },
  {
   "cell_type": "code",
   "execution_count": 22,
   "metadata": {},
   "outputs": [
    {
     "data": {
      "text/html": [
       "<table class=\"data-frame\"><thead><tr><th></th><th>X</th><th>Y</th><th>Z</th></tr><tr><th></th><th>Int64</th><th>Int64</th><th>Int64</th></tr></thead><tbody><p>2 rows × 3 columns</p><tr><th>1</th><td>5</td><td>5</td><td>1</td></tr><tr><th>2</th><td>10</td><td>15</td><td>5</td></tr></tbody></table>"
      ],
      "text/latex": [
       "\\begin{tabular}{r|ccc}\n",
       "\t& X & Y & Z\\\\\n",
       "\t\\hline\n",
       "\t& Int64 & Int64 & Int64\\\\\n",
       "\t\\hline\n",
       "\t1 & 5 & 5 & 1 \\\\\n",
       "\t2 & 10 & 15 & 5 \\\\\n",
       "\\end{tabular}\n"
      ],
      "text/plain": [
       "\u001b[1m2×3 DataFrame\u001b[0m\n",
       "\u001b[1m Row \u001b[0m│\u001b[1m X     \u001b[0m\u001b[1m Y     \u001b[0m\u001b[1m Z     \u001b[0m\n",
       "\u001b[1m     \u001b[0m│\u001b[90m Int64 \u001b[0m\u001b[90m Int64 \u001b[0m\u001b[90m Int64 \u001b[0m\n",
       "─────┼─────────────────────\n",
       "   1 │     5      5      1\n",
       "   2 │    10     15      5"
      ]
     },
     "execution_count": 22,
     "metadata": {},
     "output_type": "execute_result"
    }
   ],
   "source": [
    "df[Not(2:4), :]"
   ]
  },
  {
   "cell_type": "code",
   "execution_count": 17,
   "metadata": {},
   "outputs": [
    {
     "name": "stdout",
     "output_type": "stream",
     "text": [
      "\u001b[1m5×3 DataFrame\u001b[0m\n",
      "\u001b[1m Row \u001b[0m│\u001b[1m X     \u001b[0m\u001b[1m Y     \u001b[0m\u001b[1m Z     \u001b[0m\n",
      "\u001b[1m     \u001b[0m│\u001b[90m Int64 \u001b[0m\u001b[90m Int64 \u001b[0m\u001b[90m Int64 \u001b[0m\n",
      "─────┼─────────────────────\n",
      "   1 │     5      5      1\n",
      "   2 │    10     10      2\n",
      "   3 │    15     15      3\n",
      "   4 │    20     20      4\n",
      "   5 │    10     15      5"
     ]
    }
   ],
   "source": [
    "show(df)"
   ]
  },
  {
   "cell_type": "code",
   "execution_count": 24,
   "metadata": {},
   "outputs": [
    {
     "data": {
      "text/plain": [
       "10"
      ]
     },
     "execution_count": 24,
     "metadata": {},
     "output_type": "execute_result"
    }
   ],
   "source": [
    "df[2, 2]"
   ]
  },
  {
   "cell_type": "code",
   "execution_count": 7,
   "metadata": {},
   "outputs": [
    {
     "data": {
      "text/html": [
       "<div class=\"data-frame\"><p>5 rows × 2 columns</p><table class=\"data-frame\"><thead><tr><th></th><th>A</th><th>Y</th></tr><tr><th></th><th title=\"Int64\">Int64</th><th title=\"Int64\">Int64</th></tr></thead><tbody><tr><th>1</th><td>5</td><td>5</td></tr><tr><th>2</th><td>10</td><td>10</td></tr><tr><th>3</th><td>15</td><td>15</td></tr><tr><th>4</th><td>20</td><td>20</td></tr><tr><th>5</th><td>25</td><td>15</td></tr></tbody></table></div>"
      ],
      "text/latex": [
       "\\begin{tabular}{r|cc}\n",
       "\t& A & Y\\\\\n",
       "\t\\hline\n",
       "\t& Int64 & Int64\\\\\n",
       "\t\\hline\n",
       "\t1 & 5 & 5 \\\\\n",
       "\t2 & 10 & 10 \\\\\n",
       "\t3 & 15 & 15 \\\\\n",
       "\t4 & 20 & 20 \\\\\n",
       "\t5 & 25 & 15 \\\\\n",
       "\\end{tabular}\n"
      ],
      "text/plain": [
       "\u001b[1m5×2 DataFrame\u001b[0m\n",
       "\u001b[1m Row \u001b[0m│\u001b[1m A     \u001b[0m\u001b[1m Y     \u001b[0m\n",
       "\u001b[1m     \u001b[0m│\u001b[90m Int64 \u001b[0m\u001b[90m Int64 \u001b[0m\n",
       "─────┼──────────────\n",
       "   1 │     5      5\n",
       "   2 │    10     10\n",
       "   3 │    15     15\n",
       "   4 │    20     20\n",
       "   5 │    25     15"
      ]
     },
     "execution_count": 7,
     "metadata": {},
     "output_type": "execute_result"
    }
   ],
   "source": [
    "df2 = DataFrame(:A => [5, 10, 15, 20, 25], :Y => [5, 10, 15, 20, 15])"
   ]
  },
  {
   "cell_type": "code",
   "execution_count": 18,
   "metadata": {},
   "outputs": [
    {
     "data": {
      "text/html": [
       "<div class=\"data-frame\"><p>7 rows × 4 columns</p><table class=\"data-frame\"><thead><tr><th></th><th>X</th><th>Y</th><th>Z</th><th>A</th></tr><tr><th></th><th title=\"Int64\">Int64</th><th title=\"Int64\">Int64</th><th title=\"Int64\">Int64</th><th title=\"Int64\">Int64</th></tr></thead><tbody><tr><th>1</th><td>5</td><td>5</td><td>1</td><td>5</td></tr><tr><th>2</th><td>10</td><td>10</td><td>2</td><td>10</td></tr><tr><th>3</th><td>15</td><td>15</td><td>3</td><td>15</td></tr><tr><th>4</th><td>10</td><td>15</td><td>5</td><td>15</td></tr><tr><th>5</th><td>20</td><td>20</td><td>4</td><td>20</td></tr><tr><th>6</th><td>15</td><td>15</td><td>3</td><td>25</td></tr><tr><th>7</th><td>10</td><td>15</td><td>5</td><td>25</td></tr></tbody></table></div>"
      ],
      "text/latex": [
       "\\begin{tabular}{r|cccc}\n",
       "\t& X & Y & Z & A\\\\\n",
       "\t\\hline\n",
       "\t& Int64 & Int64 & Int64 & Int64\\\\\n",
       "\t\\hline\n",
       "\t1 & 5 & 5 & 1 & 5 \\\\\n",
       "\t2 & 10 & 10 & 2 & 10 \\\\\n",
       "\t3 & 15 & 15 & 3 & 15 \\\\\n",
       "\t4 & 10 & 15 & 5 & 15 \\\\\n",
       "\t5 & 20 & 20 & 4 & 20 \\\\\n",
       "\t6 & 15 & 15 & 3 & 25 \\\\\n",
       "\t7 & 10 & 15 & 5 & 25 \\\\\n",
       "\\end{tabular}\n"
      ],
      "text/plain": [
       "\u001b[1m7×4 DataFrame\u001b[0m\n",
       "\u001b[1m Row \u001b[0m│\u001b[1m X     \u001b[0m\u001b[1m Y     \u001b[0m\u001b[1m Z     \u001b[0m\u001b[1m A     \u001b[0m\n",
       "\u001b[1m     \u001b[0m│\u001b[90m Int64 \u001b[0m\u001b[90m Int64 \u001b[0m\u001b[90m Int64 \u001b[0m\u001b[90m Int64 \u001b[0m\n",
       "─────┼────────────────────────────\n",
       "   1 │     5      5      1      5\n",
       "   2 │    10     10      2     10\n",
       "   3 │    15     15      3     15\n",
       "   4 │    10     15      5     15\n",
       "   5 │    20     20      4     20\n",
       "   6 │    15     15      3     25\n",
       "   7 │    10     15      5     25"
      ]
     },
     "execution_count": 18,
     "metadata": {},
     "output_type": "execute_result"
    }
   ],
   "source": [
    "innerjoin(df, df2, on = :Y)"
   ]
  },
  {
   "cell_type": "code",
   "execution_count": 20,
   "metadata": {},
   "outputs": [
    {
     "data": {
      "text/html": [
       "<div class=\"data-frame\"><p>5 rows × 3 columns</p><table class=\"data-frame\"><thead><tr><th></th><th>X</th><th>Y</th><th>Z</th></tr><tr><th></th><th title=\"Int64\">Int64</th><th title=\"Int64\">Int64</th><th title=\"Int64\">Int64</th></tr></thead><tbody><tr><th>1</th><td>5</td><td>5</td><td>1</td></tr><tr><th>2</th><td>10</td><td>10</td><td>2</td></tr><tr><th>3</th><td>15</td><td>15</td><td>3</td></tr><tr><th>4</th><td>20</td><td>20</td><td>4</td></tr><tr><th>5</th><td>10</td><td>15</td><td>5</td></tr></tbody></table></div>"
      ],
      "text/latex": [
       "\\begin{tabular}{r|ccc}\n",
       "\t& X & Y & Z\\\\\n",
       "\t\\hline\n",
       "\t& Int64 & Int64 & Int64\\\\\n",
       "\t\\hline\n",
       "\t1 & 5 & 5 & 1 \\\\\n",
       "\t2 & 10 & 10 & 2 \\\\\n",
       "\t3 & 15 & 15 & 3 \\\\\n",
       "\t4 & 20 & 20 & 4 \\\\\n",
       "\t5 & 10 & 15 & 5 \\\\\n",
       "\\end{tabular}\n"
      ],
      "text/plain": [
       "\u001b[1m5×3 DataFrame\u001b[0m\n",
       "\u001b[1m Row \u001b[0m│\u001b[1m X     \u001b[0m\u001b[1m Y     \u001b[0m\u001b[1m Z     \u001b[0m\n",
       "\u001b[1m     \u001b[0m│\u001b[90m Int64 \u001b[0m\u001b[90m Int64 \u001b[0m\u001b[90m Int64 \u001b[0m\n",
       "─────┼─────────────────────\n",
       "   1 │     5      5      1\n",
       "   2 │    10     10      2\n",
       "   3 │    15     15      3\n",
       "   4 │    20     20      4\n",
       "   5 │    10     15      5"
      ]
     },
     "execution_count": 20,
     "metadata": {},
     "output_type": "execute_result"
    }
   ],
   "source": [
    "df"
   ]
  },
  {
   "cell_type": "code",
   "execution_count": 21,
   "metadata": {},
   "outputs": [
    {
     "data": {
      "text/html": [
       "<div class=\"data-frame\"><p>5 rows × 3 columns</p><table class=\"data-frame\"><thead><tr><th></th><th>X</th><th>Y</th><th>Z</th></tr><tr><th></th><th title=\"Int64\">Int64</th><th title=\"Int64\">Int64</th><th title=\"Int64\">Int64</th></tr></thead><tbody><tr><th>1</th><td>5</td><td>5</td><td>1</td></tr><tr><th>2</th><td>10</td><td>10</td><td>2</td></tr><tr><th>3</th><td>15</td><td>15</td><td>3</td></tr><tr><th>4</th><td>20</td><td>20</td><td>4</td></tr><tr><th>5</th><td>10</td><td>15</td><td>5</td></tr></tbody></table></div>"
      ],
      "text/latex": [
       "\\begin{tabular}{r|ccc}\n",
       "\t& X & Y & Z\\\\\n",
       "\t\\hline\n",
       "\t& Int64 & Int64 & Int64\\\\\n",
       "\t\\hline\n",
       "\t1 & 5 & 5 & 1 \\\\\n",
       "\t2 & 10 & 10 & 2 \\\\\n",
       "\t3 & 15 & 15 & 3 \\\\\n",
       "\t4 & 20 & 20 & 4 \\\\\n",
       "\t5 & 10 & 15 & 5 \\\\\n",
       "\\end{tabular}\n"
      ],
      "text/plain": [
       "\u001b[1m5×3 DataFrame\u001b[0m\n",
       "\u001b[1m Row \u001b[0m│\u001b[1m X     \u001b[0m\u001b[1m Y     \u001b[0m\u001b[1m Z     \u001b[0m\n",
       "\u001b[1m     \u001b[0m│\u001b[90m Int64 \u001b[0m\u001b[90m Int64 \u001b[0m\u001b[90m Int64 \u001b[0m\n",
       "─────┼─────────────────────\n",
       "   1 │     5      5      1\n",
       "   2 │    10     10      2\n",
       "   3 │    15     15      3\n",
       "   4 │    20     20      4\n",
       "   5 │    10     15      5"
      ]
     },
     "execution_count": 21,
     "metadata": {},
     "output_type": "execute_result"
    }
   ],
   "source": [
    "df"
   ]
  },
  {
   "cell_type": "code",
   "execution_count": 22,
   "metadata": {},
   "outputs": [
    {
     "data": {
      "text/html": [
       "<div class=\"data-frame\"><p>5 rows × 3 columns</p><table class=\"data-frame\"><thead><tr><th></th><th>X</th><th>Y</th><th>Z</th></tr><tr><th></th><th title=\"Int64\">Int64</th><th title=\"Int64\">Int64</th><th title=\"Int64\">Int64</th></tr></thead><tbody><tr><th>1</th><td>5</td><td>5</td><td>1</td></tr><tr><th>2</th><td>10</td><td>10</td><td>2</td></tr><tr><th>3</th><td>10</td><td>15</td><td>5</td></tr><tr><th>4</th><td>15</td><td>15</td><td>3</td></tr><tr><th>5</th><td>20</td><td>20</td><td>4</td></tr></tbody></table></div>"
      ],
      "text/latex": [
       "\\begin{tabular}{r|ccc}\n",
       "\t& X & Y & Z\\\\\n",
       "\t\\hline\n",
       "\t& Int64 & Int64 & Int64\\\\\n",
       "\t\\hline\n",
       "\t1 & 5 & 5 & 1 \\\\\n",
       "\t2 & 10 & 10 & 2 \\\\\n",
       "\t3 & 10 & 15 & 5 \\\\\n",
       "\t4 & 15 & 15 & 3 \\\\\n",
       "\t5 & 20 & 20 & 4 \\\\\n",
       "\\end{tabular}\n"
      ],
      "text/plain": [
       "\u001b[1m5×3 DataFrame\u001b[0m\n",
       "\u001b[1m Row \u001b[0m│\u001b[1m X     \u001b[0m\u001b[1m Y     \u001b[0m\u001b[1m Z     \u001b[0m\n",
       "\u001b[1m     \u001b[0m│\u001b[90m Int64 \u001b[0m\u001b[90m Int64 \u001b[0m\u001b[90m Int64 \u001b[0m\n",
       "─────┼─────────────────────\n",
       "   1 │     5      5      1\n",
       "   2 │    10     10      2\n",
       "   3 │    10     15      5\n",
       "   4 │    15     15      3\n",
       "   5 │    20     20      4"
      ]
     },
     "execution_count": 22,
     "metadata": {},
     "output_type": "execute_result"
    }
   ],
   "source": [
    "sort!(df)"
   ]
  },
  {
   "cell_type": "code",
   "execution_count": 93,
   "metadata": {},
   "outputs": [
    {
     "ename": "LoadError",
     "evalue": "ArgumentError: `DataFrame` constructor with passed eltypes is not supported. Pass explicitly created columns to a `DataFrame` constructor instead.",
     "output_type": "error",
     "traceback": [
      "ArgumentError: `DataFrame` constructor with passed eltypes is not supported. Pass explicitly created columns to a `DataFrame` constructor instead.",
      "",
      "Stacktrace:",
      " [1] DataFrame(column_eltypes::Vector{DataType}, cnames::Vector{Symbol}, nrows::Int64; makeunique::Bool)",
      "   @ DataFrames ~/.julia/packages/DataFrames/JZ7x5/src/dataframe/dataframe.jl:392",
      " [2] DataFrame(column_eltypes::Vector{DataType}, cnames::Vector{Symbol}, nrows::Int64)",
      "   @ DataFrames ~/.julia/packages/DataFrames/JZ7x5/src/dataframe/dataframe.jl:392",
      " [3] top-level scope",
      "   @ In[93]:1",
      " [4] eval",
      "   @ ./boot.jl:373 [inlined]",
      " [5] include_string(mapexpr::typeof(REPL.softscope), mod::Module, code::String, filename::String)",
      "   @ Base ./loading.jl:1196"
     ]
    }
   ],
   "source": [
    "DataFrame([Float64, Float64, Int64, Int64], [Symbol(\"x$i\") for i in 1:4], 3)"
   ]
  },
  {
   "cell_type": "code",
   "execution_count": 23,
   "metadata": {},
   "outputs": [
    {
     "data": {
      "text/html": [
       "<div class=\"data-frame\"><p>3 rows × 2 columns</p><table class=\"data-frame\"><thead><tr><th></th><th>A</th><th>B</th></tr><tr><th></th><th title=\"Union{Missing, Int64}\">Int64?</th><th title=\"Int64\">Int64</th></tr></thead><tbody><tr><th>1</th><td>5</td><td>5</td></tr><tr><th>2</th><td><em>missing</em></td><td>10</td></tr><tr><th>3</th><td>6</td><td>2</td></tr></tbody></table></div>"
      ],
      "text/latex": [
       "\\begin{tabular}{r|cc}\n",
       "\t& A & B\\\\\n",
       "\t\\hline\n",
       "\t& Int64? & Int64\\\\\n",
       "\t\\hline\n",
       "\t1 & 5 & 5 \\\\\n",
       "\t2 & \\emph{missing} & 10 \\\\\n",
       "\t3 & 6 & 2 \\\\\n",
       "\\end{tabular}\n"
      ],
      "text/plain": [
       "\u001b[1m3×2 DataFrame\u001b[0m\n",
       "\u001b[1m Row \u001b[0m│\u001b[1m A       \u001b[0m\u001b[1m B     \u001b[0m\n",
       "\u001b[1m     \u001b[0m│\u001b[90m Int64?  \u001b[0m\u001b[90m Int64 \u001b[0m\n",
       "─────┼────────────────\n",
       "   1 │       5      5\n",
       "   2 │\u001b[90m missing \u001b[0m    10\n",
       "   3 │       6      2"
      ]
     },
     "execution_count": 23,
     "metadata": {},
     "output_type": "execute_result"
    }
   ],
   "source": [
    "df = DataFrame(:A => [5, missing, 6], :B => [5, 10, 2])"
   ]
  },
  {
   "cell_type": "code",
   "execution_count": 24,
   "metadata": {},
   "outputs": [
    {
     "data": {
      "text/html": [
       "<div class=\"data-frame\"><p>2 rows × 2 columns</p><table class=\"data-frame\"><thead><tr><th></th><th>A</th><th>B</th></tr><tr><th></th><th title=\"Int64\">Int64</th><th title=\"Int64\">Int64</th></tr></thead><tbody><tr><th>1</th><td>5</td><td>5</td></tr><tr><th>2</th><td>6</td><td>2</td></tr></tbody></table></div>"
      ],
      "text/latex": [
       "\\begin{tabular}{r|cc}\n",
       "\t& A & B\\\\\n",
       "\t\\hline\n",
       "\t& Int64 & Int64\\\\\n",
       "\t\\hline\n",
       "\t1 & 5 & 5 \\\\\n",
       "\t2 & 6 & 2 \\\\\n",
       "\\end{tabular}\n"
      ],
      "text/plain": [
       "\u001b[1m2×2 DataFrame\u001b[0m\n",
       "\u001b[1m Row \u001b[0m│\u001b[1m A     \u001b[0m\u001b[1m B     \u001b[0m\n",
       "\u001b[1m     \u001b[0m│\u001b[90m Int64 \u001b[0m\u001b[90m Int64 \u001b[0m\n",
       "─────┼──────────────\n",
       "   1 │     5      5\n",
       "   2 │     6      2"
      ]
     },
     "execution_count": 24,
     "metadata": {},
     "output_type": "execute_result"
    }
   ],
   "source": [
    "dropmissing(df)"
   ]
  },
  {
   "cell_type": "code",
   "execution_count": 25,
   "metadata": {},
   "outputs": [
    {
     "data": {
      "text/html": [
       "<div class=\"data-frame\"><p>3 rows × 2 columns</p><table class=\"data-frame\"><thead><tr><th></th><th>A</th><th>B</th></tr><tr><th></th><th title=\"Union{Missing, Int64}\">Int64?</th><th title=\"Int64\">Int64</th></tr></thead><tbody><tr><th>1</th><td>5</td><td>5</td></tr><tr><th>2</th><td><em>missing</em></td><td>10</td></tr><tr><th>3</th><td>6</td><td>2</td></tr></tbody></table></div>"
      ],
      "text/latex": [
       "\\begin{tabular}{r|cc}\n",
       "\t& A & B\\\\\n",
       "\t\\hline\n",
       "\t& Int64? & Int64\\\\\n",
       "\t\\hline\n",
       "\t1 & 5 & 5 \\\\\n",
       "\t2 & \\emph{missing} & 10 \\\\\n",
       "\t3 & 6 & 2 \\\\\n",
       "\\end{tabular}\n"
      ],
      "text/plain": [
       "\u001b[1m3×2 DataFrame\u001b[0m\n",
       "\u001b[1m Row \u001b[0m│\u001b[1m A       \u001b[0m\u001b[1m B     \u001b[0m\n",
       "\u001b[1m     \u001b[0m│\u001b[90m Int64?  \u001b[0m\u001b[90m Int64 \u001b[0m\n",
       "─────┼────────────────\n",
       "   1 │       5      5\n",
       "   2 │\u001b[90m missing \u001b[0m    10\n",
       "   3 │       6      2"
      ]
     },
     "execution_count": 25,
     "metadata": {},
     "output_type": "execute_result"
    }
   ],
   "source": [
    "df"
   ]
  },
  {
   "cell_type": "code",
   "execution_count": 26,
   "metadata": {},
   "outputs": [
    {
     "data": {
      "text/html": [
       "<div class=\"data-frame\"><p>2 rows × 2 columns</p><table class=\"data-frame\"><thead><tr><th></th><th>A</th><th>B</th></tr><tr><th></th><th title=\"Int64\">Int64</th><th title=\"Int64\">Int64</th></tr></thead><tbody><tr><th>1</th><td>5</td><td>5</td></tr><tr><th>2</th><td>6</td><td>2</td></tr></tbody></table></div>"
      ],
      "text/latex": [
       "\\begin{tabular}{r|cc}\n",
       "\t& A & B\\\\\n",
       "\t\\hline\n",
       "\t& Int64 & Int64\\\\\n",
       "\t\\hline\n",
       "\t1 & 5 & 5 \\\\\n",
       "\t2 & 6 & 2 \\\\\n",
       "\\end{tabular}\n"
      ],
      "text/plain": [
       "\u001b[1m2×2 DataFrame\u001b[0m\n",
       "\u001b[1m Row \u001b[0m│\u001b[1m A     \u001b[0m\u001b[1m B     \u001b[0m\n",
       "\u001b[1m     \u001b[0m│\u001b[90m Int64 \u001b[0m\u001b[90m Int64 \u001b[0m\n",
       "─────┼──────────────\n",
       "   1 │     5      5\n",
       "   2 │     6      2"
      ]
     },
     "execution_count": 26,
     "metadata": {},
     "output_type": "execute_result"
    }
   ],
   "source": [
    "dropmissing(df, :A)"
   ]
  },
  {
   "cell_type": "markdown",
   "metadata": {},
   "source": []
  },
  {
   "cell_type": "code",
   "execution_count": 40,
   "metadata": {},
   "outputs": [
    {
     "data": {
      "text/html": [
       "<div class=\"data-frame\"><p>6 rows × 2 columns</p><table class=\"data-frame\"><thead><tr><th></th><th>x</th><th>y</th></tr><tr><th></th><th title=\"Union{Missing, Nothing, Float64}\">Union…?</th><th title=\"Char\">Char</th></tr></thead><tbody><tr><th>1</th><td>1.0</td><td>a</td></tr><tr><th>2</th><td><em>missing</em></td><td>b</td></tr><tr><th>3</th><td>3.0</td><td>c</td></tr><tr><th>4</th><td></td><td>d</td></tr><tr><th>5</th><td>5.0</td><td>e</td></tr><tr><th>6</th><td>NaN</td><td>f</td></tr></tbody></table></div>"
      ],
      "text/latex": [
       "\\begin{tabular}{r|cc}\n",
       "\t& x & y\\\\\n",
       "\t\\hline\n",
       "\t& Union…? & Char\\\\\n",
       "\t\\hline\n",
       "\t1 & 1.0 & a \\\\\n",
       "\t2 & \\emph{missing} & b \\\\\n",
       "\t3 & 3.0 & c \\\\\n",
       "\t4 &  & d \\\\\n",
       "\t5 & 5.0 & e \\\\\n",
       "\t6 & NaN & f \\\\\n",
       "\\end{tabular}\n"
      ],
      "text/plain": [
       "\u001b[1m6×2 DataFrame\u001b[0m\n",
       "\u001b[1m Row \u001b[0m│\u001b[1m x       \u001b[0m\u001b[1m y    \u001b[0m\n",
       "\u001b[1m     \u001b[0m│\u001b[90m Union…? \u001b[0m\u001b[90m Char \u001b[0m\n",
       "─────┼───────────────\n",
       "   1 │ 1.0      a\n",
       "   2 │\u001b[90m missing \u001b[0m b\n",
       "   3 │ 3.0      c\n",
       "   4 │\u001b[90m         \u001b[0m d\n",
       "   5 │ 5.0      e\n",
       "   6 │ NaN      f"
      ]
     },
     "execution_count": 40,
     "metadata": {},
     "output_type": "execute_result"
    }
   ],
   "source": [
    "df3  = DataFrame(x=[1,missing,3,nothing,5,NaN], y='a':'f')\n"
   ]
  },
  {
   "cell_type": "code",
   "execution_count": 43,
   "metadata": {},
   "outputs": [
    {
     "data": {
      "text/html": [
       "<div class=\"data-frame\"><p>3 rows × 2 columns</p><table class=\"data-frame\"><thead><tr><th></th><th>x</th><th>y</th></tr><tr><th></th><th title=\"Union{Missing, Nothing, Float64}\">Union…?</th><th title=\"Char\">Char</th></tr></thead><tbody><tr><th>1</th><td>1.0</td><td>a</td></tr><tr><th>2</th><td>3.0</td><td>c</td></tr><tr><th>3</th><td>5.0</td><td>e</td></tr></tbody></table></div>"
      ],
      "text/latex": [
       "\\begin{tabular}{r|cc}\n",
       "\t& x & y\\\\\n",
       "\t\\hline\n",
       "\t& Union…? & Char\\\\\n",
       "\t\\hline\n",
       "\t1 & 1.0 & a \\\\\n",
       "\t2 & 3.0 & c \\\\\n",
       "\t3 & 5.0 & e \\\\\n",
       "\\end{tabular}\n"
      ],
      "text/plain": [
       "\u001b[1m3×2 DataFrame\u001b[0m\n",
       "\u001b[1m Row \u001b[0m│\u001b[1m x       \u001b[0m\u001b[1m y    \u001b[0m\n",
       "\u001b[1m     \u001b[0m│\u001b[90m Union…? \u001b[0m\u001b[90m Char \u001b[0m\n",
       "─────┼───────────────\n",
       "   1 │ 1.0      a\n",
       "   2 │ 3.0      c\n",
       "   3 │ 5.0      e"
      ]
     },
     "execution_count": 43,
     "metadata": {},
     "output_type": "execute_result"
    }
   ],
   "source": [
    "filter( [1] => x -> !any(f -> f(x), (ismissing, isnothing, isnan)), df3)"
   ]
  },
  {
   "cell_type": "code",
   "execution_count": 79,
   "metadata": {},
   "outputs": [
    {
     "data": {
      "text/html": [
       "<div class=\"data-frame\"><p>3 rows × 2 columns</p><table class=\"data-frame\"><thead><tr><th></th><th>x</th><th>y</th></tr><tr><th></th><th title=\"Union{Missing, Nothing, Float64}\">Union…?</th><th title=\"Char\">Char</th></tr></thead><tbody><tr><th>1</th><td>1.0</td><td>a</td></tr><tr><th>2</th><td>3.0</td><td>c</td></tr><tr><th>3</th><td>5.0</td><td>e</td></tr></tbody></table></div>"
      ],
      "text/latex": [
       "\\begin{tabular}{r|cc}\n",
       "\t& x & y\\\\\n",
       "\t\\hline\n",
       "\t& Union…? & Char\\\\\n",
       "\t\\hline\n",
       "\t1 & 1.0 & a \\\\\n",
       "\t2 & 3.0 & c \\\\\n",
       "\t3 & 5.0 & e \\\\\n",
       "\\end{tabular}\n"
      ],
      "text/plain": [
       "\u001b[1m3×2 DataFrame\u001b[0m\n",
       "\u001b[1m Row \u001b[0m│\u001b[1m x       \u001b[0m\u001b[1m y    \u001b[0m\n",
       "\u001b[1m     \u001b[0m│\u001b[90m Union…? \u001b[0m\u001b[90m Char \u001b[0m\n",
       "─────┼───────────────\n",
       "   1 │ 1.0      a\n",
       "   2 │ 3.0      c\n",
       "   3 │ 5.0      e"
      ]
     },
     "execution_count": 79,
     "metadata": {},
     "output_type": "execute_result"
    }
   ],
   "source": [
    "filter(:x => x -> !any(f -> f(x), (ismissing, isnothing, isnan)), df3)"
   ]
  },
  {
   "cell_type": "code",
   "execution_count": 60,
   "metadata": {},
   "outputs": [
    {
     "data": {
      "text/html": [
       "<div class=\"data-frame\"><p>3 rows × 1 columns</p><table class=\"data-frame\"><thead><tr><th></th><th>x</th></tr><tr><th></th><th title=\"Union{Missing, Float64}\">Float64?</th></tr></thead><tbody><tr><th>1</th><td>3432.34</td></tr><tr><th>2</th><td>432.2</td></tr><tr><th>3</th><td>43.0</td></tr></tbody></table></div>"
      ],
      "text/latex": [
       "\\begin{tabular}{r|c}\n",
       "\t& x\\\\\n",
       "\t\\hline\n",
       "\t& Float64?\\\\\n",
       "\t\\hline\n",
       "\t1 & 3432.34 \\\\\n",
       "\t2 & 432.2 \\\\\n",
       "\t3 & 43.0 \\\\\n",
       "\\end{tabular}\n"
      ],
      "text/plain": [
       "\u001b[1m3×1 DataFrame\u001b[0m\n",
       "\u001b[1m Row \u001b[0m│\u001b[1m x        \u001b[0m\n",
       "\u001b[1m     \u001b[0m│\u001b[90m Float64? \u001b[0m\n",
       "─────┼──────────\n",
       "   1 │  3432.34\n",
       "   2 │   432.2\n",
       "   3 │    43.0"
      ]
     },
     "execution_count": 60,
     "metadata": {},
     "output_type": "execute_result"
    }
   ],
   "source": [
    "\n",
    "df = DataFrame(x=[missing,NaN,3432.34,432.2,NaN, 43.])\n",
    "# select numerical type columns from a DataFrame df3\n",
    "filter(:x => x -> !any(f -> f(x), (ismissing, isnothing, isnan)), df)"
   ]
  },
  {
   "cell_type": "code",
   "execution_count": 64,
   "metadata": {},
   "outputs": [
    {
     "data": {
      "text/html": [
       "<div class=\"data-frame\"><p>6 rows × 3 columns</p><table class=\"data-frame\"><thead><tr><th></th><th>A</th><th>B</th><th>C</th></tr><tr><th></th><th title=\"Int64\">Int64</th><th title=\"Int64\">Int64</th><th title=\"String\">String</th></tr></thead><tbody><tr><th>1</th><td>1</td><td>1</td><td>a</td></tr><tr><th>2</th><td>3</td><td>3</td><td>b</td></tr><tr><th>3</th><td>4</td><td>4</td><td>c</td></tr><tr><th>4</th><td>5</td><td>5</td><td>d</td></tr><tr><th>5</th><td>6</td><td>6</td><td>e</td></tr><tr><th>6</th><td>432</td><td>3</td><td>f</td></tr></tbody></table></div>"
      ],
      "text/latex": [
       "\\begin{tabular}{r|ccc}\n",
       "\t& A & B & C\\\\\n",
       "\t\\hline\n",
       "\t& Int64 & Int64 & String\\\\\n",
       "\t\\hline\n",
       "\t1 & 1 & 1 & a \\\\\n",
       "\t2 & 3 & 3 & b \\\\\n",
       "\t3 & 4 & 4 & c \\\\\n",
       "\t4 & 5 & 5 & d \\\\\n",
       "\t5 & 6 & 6 & e \\\\\n",
       "\t6 & 432 & 3 & f \\\\\n",
       "\\end{tabular}\n"
      ],
      "text/plain": [
       "\u001b[1m6×3 DataFrame\u001b[0m\n",
       "\u001b[1m Row \u001b[0m│\u001b[1m A     \u001b[0m\u001b[1m B     \u001b[0m\u001b[1m C      \u001b[0m\n",
       "\u001b[1m     \u001b[0m│\u001b[90m Int64 \u001b[0m\u001b[90m Int64 \u001b[0m\u001b[90m String \u001b[0m\n",
       "─────┼──────────────────────\n",
       "   1 │     1      1  a\n",
       "   2 │     3      3  b\n",
       "   3 │     4      4  c\n",
       "   4 │     5      5  d\n",
       "   5 │     6      6  e\n",
       "   6 │   432      3  f"
      ]
     },
     "execution_count": 64,
     "metadata": {},
     "output_type": "execute_result"
    }
   ],
   "source": [
    "df = DataFrame(A=[1,3,4,5,6,432], B=[1,3,4,5,6,3], C=[\"a\",\"b\",\"c\",\"d\",\"e\",\"f\"])"
   ]
  },
  {
   "cell_type": "code",
   "execution_count": 80,
   "metadata": {},
   "outputs": [
    {
     "data": {
      "text/html": [
       "<div class=\"data-frame\"><p>6 rows × 2 columns</p><table class=\"data-frame\"><thead><tr><th></th><th>A</th><th>B</th></tr><tr><th></th><th title=\"Int64\">Int64</th><th title=\"Int64\">Int64</th></tr></thead><tbody><tr><th>1</th><td>1</td><td>1</td></tr><tr><th>2</th><td>3</td><td>3</td></tr><tr><th>3</th><td>4</td><td>4</td></tr><tr><th>4</th><td>5</td><td>5</td></tr><tr><th>5</th><td>6</td><td>6</td></tr><tr><th>6</th><td>432</td><td>3</td></tr></tbody></table></div>"
      ],
      "text/latex": [
       "\\begin{tabular}{r|cc}\n",
       "\t& A & B\\\\\n",
       "\t\\hline\n",
       "\t& Int64 & Int64\\\\\n",
       "\t\\hline\n",
       "\t1 & 1 & 1 \\\\\n",
       "\t2 & 3 & 3 \\\\\n",
       "\t3 & 4 & 4 \\\\\n",
       "\t4 & 5 & 5 \\\\\n",
       "\t5 & 6 & 6 \\\\\n",
       "\t6 & 432 & 3 \\\\\n",
       "\\end{tabular}\n"
      ],
      "text/plain": [
       "\u001b[1m6×2 DataFrame\u001b[0m\n",
       "\u001b[1m Row \u001b[0m│\u001b[1m A     \u001b[0m\u001b[1m B     \u001b[0m\n",
       "\u001b[1m     \u001b[0m│\u001b[90m Int64 \u001b[0m\u001b[90m Int64 \u001b[0m\n",
       "─────┼──────────────\n",
       "   1 │     1      1\n",
       "   2 │     3      3\n",
       "   3 │     4      4\n",
       "   4 │     5      5\n",
       "   5 │     6      6\n",
       "   6 │   432      3"
      ]
     },
     "execution_count": 80,
     "metadata": {},
     "output_type": "execute_result"
    }
   ],
   "source": [
    "using Missings\n",
    "# drop columns with not number values\n",
    "df = df[:, map(col -> eltype(col) <: Number, eachcol(df))]\n",
    "# note use of subtype operator <:\n",
    "\n",
    "\n",
    "\n"
   ]
  },
  {
   "cell_type": "code",
   "execution_count": 90,
   "metadata": {},
   "outputs": [
    {
     "ename": "LoadError",
     "evalue": "MethodError: no method matching getindex(::DataFrame, ::Colon)\n\u001b[0mClosest candidates are:\n\u001b[0m  getindex(::DataFrame, ::Colon, \u001b[91m::Union{Colon, Regex, AbstractVector, All, Between, Cols, InvertedIndex}\u001b[39m) at ~/.julia/packages/DataFrames/JZ7x5/src/dataframe/dataframe.jl:594\n\u001b[0m  getindex(::DataFrame, ::Colon, \u001b[91m::Union{AbstractString, Signed, Symbol, Unsigned}\u001b[39m) at ~/.julia/packages/DataFrames/JZ7x5/src/dataframe/dataframe.jl:510\n\u001b[0m  getindex(::AbstractDataFrame, \u001b[91m::CartesianIndex{2}\u001b[39m) at ~/.julia/packages/DataFrames/JZ7x5/src/other/broadcasting.jl:3\n\u001b[0m  ...",
     "output_type": "error",
     "traceback": [
      "MethodError: no method matching getindex(::DataFrame, ::Colon)\n\u001b[0mClosest candidates are:\n\u001b[0m  getindex(::DataFrame, ::Colon, \u001b[91m::Union{Colon, Regex, AbstractVector, All, Between, Cols, InvertedIndex}\u001b[39m) at ~/.julia/packages/DataFrames/JZ7x5/src/dataframe/dataframe.jl:594\n\u001b[0m  getindex(::DataFrame, ::Colon, \u001b[91m::Union{AbstractString, Signed, Symbol, Unsigned}\u001b[39m) at ~/.julia/packages/DataFrames/JZ7x5/src/dataframe/dataframe.jl:510\n\u001b[0m  getindex(::AbstractDataFrame, \u001b[91m::CartesianIndex{2}\u001b[39m) at ~/.julia/packages/DataFrames/JZ7x5/src/other/broadcasting.jl:3\n\u001b[0m  ...",
      "",
      "Stacktrace:",
      " [1] top-level scope",
      "   @ In[90]:2",
      " [2] eval",
      "   @ ./boot.jl:373 [inlined]",
      " [3] include_string(mapexpr::typeof(REPL.softscope), mod::Module, code::String, filename::String)",
      "   @ Base ./loading.jl:1196"
     ]
    }
   ],
   "source": [
    "\n",
    "df2 = map(x -> ismissing(x) ? 0 : x, df[ :])"
   ]
  }
 ],
 "metadata": {
  "@webio": {
   "lastCommId": null,
   "lastKernelId": null
  },
  "kernelspec": {
   "display_name": "Julia 1.7.1",
   "language": "julia",
   "name": "julia-1.7"
  },
  "language_info": {
   "file_extension": ".jl",
   "mimetype": "application/julia",
   "name": "julia",
   "version": "1.7.1"
  }
 },
 "nbformat": 4,
 "nbformat_minor": 2
}
