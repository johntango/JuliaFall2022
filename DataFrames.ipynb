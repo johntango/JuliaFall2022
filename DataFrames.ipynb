{
 "cells": [
  {
   "cell_type": "code",
   "execution_count": 2,
   "metadata": {},
   "outputs": [
    {
     "name": "stderr",
     "output_type": "stream",
     "text": [
      "\u001b[32m\u001b[1m    Updating\u001b[22m\u001b[39m registry at `~/.julia/registries/General.toml`\n",
      "\u001b[32m\u001b[1m   Resolving\u001b[22m\u001b[39m package versions...\n",
      "\u001b[32m\u001b[1m  No Changes\u001b[22m\u001b[39m to `~/.julia/environments/v1.7/Project.toml`\n",
      "\u001b[32m\u001b[1m  No Changes\u001b[22m\u001b[39m to `~/.julia/environments/v1.7/Manifest.toml`\n",
      "\u001b[32m\u001b[1m   Resolving\u001b[22m\u001b[39m package versions...\n",
      "\u001b[32m\u001b[1m  No Changes\u001b[22m\u001b[39m to `~/.julia/environments/v1.7/Project.toml`\n",
      "\u001b[32m\u001b[1m  No Changes\u001b[22m\u001b[39m to `~/.julia/environments/v1.7/Manifest.toml`\n",
      "\u001b[32m\u001b[1m   Resolving\u001b[22m\u001b[39m package versions...\n",
      "\u001b[32m\u001b[1m  No Changes\u001b[22m\u001b[39m to `~/.julia/environments/v1.7/Project.toml`\n",
      "\u001b[32m\u001b[1m  No Changes\u001b[22m\u001b[39m to `~/.julia/environments/v1.7/Manifest.toml`\n",
      "\u001b[32m\u001b[1m   Resolving\u001b[22m\u001b[39m package versions...\n",
      "\u001b[32m\u001b[1m  No Changes\u001b[22m\u001b[39m to `~/.julia/environments/v1.7/Project.toml`\n",
      "\u001b[32m\u001b[1m  No Changes\u001b[22m\u001b[39m to `~/.julia/environments/v1.7/Manifest.toml`\n"
     ]
    }
   ],
   "source": [
    "import Pkg; Pkg.add(\"DataFrames\")\n",
    "Pkg.add(\"Missings\")\n",
    "Pkg.add(\"CSV\")\n",
    "Pkg.add(\"Statistics\")\n",
    "using DataFrames\n",
    "using CSV\n",
    "using Missings\n",
    "using Statistics"
   ]
  },
  {
   "cell_type": "code",
   "execution_count": 6,
   "metadata": {},
   "outputs": [
    {
     "data": {
      "text/plain": [
       "3-element Vector{Char}:\n",
       " 'A': ASCII/Unicode U+0041 (category Lu: Letter, uppercase)\n",
       " 'B': ASCII/Unicode U+0042 (category Lu: Letter, uppercase)\n",
       " 'C': ASCII/Unicode U+0043 (category Lu: Letter, uppercase)"
      ]
     },
     "execution_count": 6,
     "metadata": {},
     "output_type": "execute_result"
    }
   ],
   "source": [
    "df = DataFrame(a=1:4, b='A':'D')\n",
    "df.a\n",
    "df.c = [1.0, 2.0, 3.0, 4.0]\n",
    "df[1:3,2]"
   ]
  },
  {
   "cell_type": "code",
   "execution_count": null,
   "metadata": {},
   "outputs": [],
   "source": [
    "df = DataFrame(\n",
    "colour = [\"green\",\"blue\",\"white\",\"green\",\"green\"],\n",
    "shape  = [\"circle\", \"triangle\", \"square\",\"square\",\"circle\"],\n",
    "border = [\"dotted\", \"line\", \"line\", \"line\", \"dotted\"],\n",
    "area   = [1.1, 2.3, 3.1, missing, 5.2])\n",
    "\n"
   ]
  },
  {
   "cell_type": "code",
   "execution_count": null,
   "metadata": {},
   "outputs": [],
   "source": [
    "describe(df)\n"
   ]
  },
  {
   "cell_type": "code",
   "execution_count": null,
   "metadata": {},
   "outputs": [],
   "source": [
    "\n",
    "for c in eachrow(df)    # eachcol(df) for columns\n",
    "    print(c)\n",
    "end"
   ]
  },
  {
   "cell_type": "code",
   "execution_count": null,
   "metadata": {},
   "outputs": [],
   "source": [
    "#Referencing is obtained using the exclamation mark ! for the row position \n",
    "#(to emphasize that referenced data could be changed in the new object) \n",
    "myRef1 = df[!, :colour]  # we need to do this rather than df[:, :colour]\n",
    "#myRef1[1] = \"pink\"   # changes the original dataframe as well\n",
    "#myRef1"
   ]
  },
  {
   "cell_type": "code",
   "execution_count": null,
   "metadata": {},
   "outputs": [],
   "source": [
    "df[1, :colour] = \"pink\"  # changes the original dataframe as well\n",
    "df\n",
    "\n"
   ]
  },
  {
   "cell_type": "code",
   "execution_count": null,
   "metadata": {},
   "outputs": [],
   "source": [
    "dict = Dict(:Color=>[\"green\",\"blue\",\"white\",\"green\",\"green\"],:Shape=>[\"circle\", \"triangle\", \"square\",\"square\",\"circle\"],:Border=>[\"dotted\", \"line\", \"line\", \"line\", \"dotted\"],:Area=>[1.1, 2.3, 3.1, missing, 5.2])\n",
    "df = DataFrame(dict)\n",
    "#select(df, Not(:Area))   # drop column :Area"
   ]
  },
  {
   "cell_type": "code",
   "execution_count": null,
   "metadata": {},
   "outputs": [],
   "source": [
    "tuples = (:H => [5, 10], :J => [10, 15])\n",
    "typeof(tuples)"
   ]
  },
  {
   "cell_type": "code",
   "execution_count": null,
   "metadata": {},
   "outputs": [],
   "source": [
    "df = DataFrame(tuples) # note the column names are not controlled by the user"
   ]
  },
  {
   "cell_type": "code",
   "execution_count": null,
   "metadata": {},
   "outputs": [],
   "source": [
    "# we have a list of 3 books and their authors. Some of the books have more than one author\n",
    "# list of books \"The Hobbit\", \"The Lord of the Rings\", \"The Silmarillion\"\n",
    "# list of authors \"J.R.R. Tolkien\", \"J.R.R. Tolkien\",     \"J.R.R. Tolkien\" and \"Christopher Tolkien\"\n",
    "# construct a dataframe with two columns: Book and Author\n",
    "\n",
    "# if we write this out to a CSV file what do we expect to see?\n"
   ]
  },
  {
   "cell_type": "code",
   "execution_count": null,
   "metadata": {},
   "outputs": [],
   "source": [
    "names(df)"
   ]
  },
  {
   "cell_type": "code",
   "execution_count": null,
   "metadata": {},
   "outputs": [],
   "source": [
    "df = DataFrame(:X => [5,10,15,20], :Y => [5,10,15,20])"
   ]
  },
  {
   "cell_type": "code",
   "execution_count": null,
   "metadata": {},
   "outputs": [],
   "source": [
    "push!(df, [10, 15])"
   ]
  },
  {
   "cell_type": "code",
   "execution_count": null,
   "metadata": {},
   "outputs": [],
   "source": [
    "df.Z = df.X .* df.Y    # add a new column using element wise multiplication\n",
    "df"
   ]
  },
  {
   "cell_type": "code",
   "execution_count": null,
   "metadata": {},
   "outputs": [],
   "source": [
    "# Key:  note the use of the !\n",
    "df.W = df[!, :X]\n",
    "df.V = ['a', 'b', 'c', 'd', 'e']\n",
    "df"
   ]
  },
  {
   "cell_type": "code",
   "execution_count": 18,
   "metadata": {},
   "outputs": [
    {
     "data": {
      "text/html": [
       "<div class=\"data-frame\"><p>5 rows × 3 columns</p><table class=\"data-frame\"><thead><tr><th></th><th>X</th><th>Y</th><th>Z</th></tr><tr><th></th><th title=\"Int64\">Int64</th><th title=\"Int64\">Int64</th><th title=\"Int64\">Int64</th></tr></thead><tbody><tr><th>1</th><td>5</td><td>5</td><td>25</td></tr><tr><th>2</th><td>10</td><td>10</td><td>100</td></tr><tr><th>3</th><td>15</td><td>15</td><td>225</td></tr><tr><th>4</th><td>20</td><td>20</td><td>400</td></tr><tr><th>5</th><td>10</td><td>15</td><td>99</td></tr></tbody></table></div>"
      ],
      "text/latex": [
       "\\begin{tabular}{r|ccc}\n",
       "\t& X & Y & Z\\\\\n",
       "\t\\hline\n",
       "\t& Int64 & Int64 & Int64\\\\\n",
       "\t\\hline\n",
       "\t1 & 5 & 5 & 25 \\\\\n",
       "\t2 & 10 & 10 & 100 \\\\\n",
       "\t3 & 15 & 15 & 225 \\\\\n",
       "\t4 & 20 & 20 & 400 \\\\\n",
       "\t5 & 10 & 15 & 99 \\\\\n",
       "\\end{tabular}\n"
      ],
      "text/plain": [
       "\u001b[1m5×3 DataFrame\u001b[0m\n",
       "\u001b[1m Row \u001b[0m│\u001b[1m X     \u001b[0m\u001b[1m Y     \u001b[0m\u001b[1m Z     \u001b[0m\n",
       "\u001b[1m     \u001b[0m│\u001b[90m Int64 \u001b[0m\u001b[90m Int64 \u001b[0m\u001b[90m Int64 \u001b[0m\n",
       "─────┼─────────────────────\n",
       "   1 │     5      5     25\n",
       "   2 │    10     10    100\n",
       "   3 │    15     15    225\n",
       "   4 │    20     20    400\n",
       "   5 │    10     15     99"
      ]
     },
     "execution_count": 18,
     "metadata": {},
     "output_type": "execute_result"
    }
   ],
   "source": [
    "df = DataFrame(:X => [5,10,15,20], :Y => [5,10,15,20])\n",
    "df.Z = df.X .* df.Y    # add a new column using element wise multiplication\n",
    "push!(df, [10, 15, 99])\n"
   ]
  },
  {
   "cell_type": "code",
   "execution_count": null,
   "metadata": {},
   "outputs": [],
   "source": [
    "names(df)\n",
    "# test columns for type and select only Number columns\n",
    "\n",
    "function getNumericColumns(df)\n",
    "    numericColumns = []\n",
    "    for i in 1:size(df)[2]\n",
    "        if eltype(df[:, i]) <: Number\n",
    "            push!(numericColumns, names(df)[i])\n",
    "        end\n",
    "    end\n",
    "    return numericColumns\n",
    "end\n",
    "getNumericColumns(df)\n",
    "#select(df,[Symbol('X'), Symbol('Y'), Symbol('Z'), Symbol('W')])\n",
    "#select(df, getNumericColumns(df))"
   ]
  },
  {
   "cell_type": "code",
   "execution_count": null,
   "metadata": {},
   "outputs": [],
   "source": [
    "#rename!(df, :X => :XMAS)\n"
   ]
  },
  {
   "cell_type": "code",
   "execution_count": 19,
   "metadata": {},
   "outputs": [
    {
     "data": {
      "text/plain": [
       "5-element Vector{Int64}:\n",
       " 1\n",
       " 2\n",
       " 3\n",
       " 4\n",
       " 5"
      ]
     },
     "execution_count": 19,
     "metadata": {},
     "output_type": "execute_result"
    }
   ],
   "source": [
    "df[!, :U] = [1, 2, 3, 4, 5]"
   ]
  },
  {
   "cell_type": "code",
   "execution_count": 20,
   "metadata": {},
   "outputs": [
    {
     "name": "stdout",
     "output_type": "stream",
     "text": [
      "\u001b[1m5×4 DataFrame\u001b[0m\n",
      "\u001b[1m Row \u001b[0m│\u001b[1m X     \u001b[0m\u001b[1m Y     \u001b[0m\u001b[1m Z     \u001b[0m\u001b[1m U     \u001b[0m\n",
      "\u001b[1m     \u001b[0m│\u001b[90m Int64 \u001b[0m\u001b[90m Int64 \u001b[0m\u001b[90m Int64 \u001b[0m\u001b[90m Int64 \u001b[0m\n",
      "─────┼────────────────────────────\n",
      "   1 │     5      5     25      1\n",
      "   2 │    10     10    100      2\n",
      "   3 │    15     15    225      3\n",
      "   4 │    20     20    400      4\n",
      "   5 │    10     15     99      5"
     ]
    }
   ],
   "source": [
    "show(df)"
   ]
  },
  {
   "cell_type": "code",
   "execution_count": null,
   "metadata": {},
   "outputs": [],
   "source": [
    "first(df, 2)"
   ]
  },
  {
   "cell_type": "code",
   "execution_count": null,
   "metadata": {},
   "outputs": [],
   "source": [
    "last(df, 3)"
   ]
  },
  {
   "cell_type": "code",
   "execution_count": null,
   "metadata": {},
   "outputs": [],
   "source": [
    "df[2:4, :]"
   ]
  },
  {
   "cell_type": "code",
   "execution_count": 7,
   "metadata": {},
   "outputs": [
    {
     "data": {
      "text/html": [
       "<div class=\"data-frame\"><p>1 rows × 3 columns</p><table class=\"data-frame\"><thead><tr><th></th><th>a</th><th>b</th><th>c</th></tr><tr><th></th><th title=\"Int64\">Int64</th><th title=\"Char\">Char</th><th title=\"Float64\">Float64</th></tr></thead><tbody><tr><th>1</th><td>1</td><td>A</td><td>1.0</td></tr></tbody></table></div>"
      ],
      "text/latex": [
       "\\begin{tabular}{r|ccc}\n",
       "\t& a & b & c\\\\\n",
       "\t\\hline\n",
       "\t& Int64 & Char & Float64\\\\\n",
       "\t\\hline\n",
       "\t1 & 1 & A & 1.0 \\\\\n",
       "\\end{tabular}\n"
      ],
      "text/plain": [
       "\u001b[1m1×3 DataFrame\u001b[0m\n",
       "\u001b[1m Row \u001b[0m│\u001b[1m a     \u001b[0m\u001b[1m b    \u001b[0m\u001b[1m c       \u001b[0m\n",
       "\u001b[1m     \u001b[0m│\u001b[90m Int64 \u001b[0m\u001b[90m Char \u001b[0m\u001b[90m Float64 \u001b[0m\n",
       "─────┼──────────────────────\n",
       "   1 │     1  A         1.0"
      ]
     },
     "execution_count": 7,
     "metadata": {},
     "output_type": "execute_result"
    }
   ],
   "source": [
    "df[Not(2:4), :]"
   ]
  },
  {
   "cell_type": "code",
   "execution_count": 22,
   "metadata": {},
   "outputs": [
    {
     "name": "stdout",
     "output_type": "stream",
     "text": [
      "\u001b[1m5×4 DataFrame\u001b[0m\n",
      "\u001b[1m Row \u001b[0m│\u001b[1m X     \u001b[0m\u001b[1m Y     \u001b[0m\u001b[1m Z     \u001b[0m\u001b[1m U     \u001b[0m\n",
      "\u001b[1m     \u001b[0m│\u001b[90m Int64 \u001b[0m\u001b[90m Int64 \u001b[0m\u001b[90m Int64 \u001b[0m\u001b[90m Int64 \u001b[0m\n",
      "─────┼────────────────────────────\n",
      "   1 │     5      5     25      1\n",
      "   2 │    10     10    100      2\n",
      "   3 │    15     15    225      3\n",
      "   4 │    20     20    400      4\n",
      "   5 │    10     15     99      5"
     ]
    }
   ],
   "source": [
    "show(df)"
   ]
  },
  {
   "cell_type": "code",
   "execution_count": null,
   "metadata": {},
   "outputs": [],
   "source": [
    "df[2, 2]"
   ]
  },
  {
   "cell_type": "code",
   "execution_count": 9,
   "metadata": {},
   "outputs": [
    {
     "data": {
      "text/html": [
       "<div class=\"data-frame\"><p>5 rows × 2 columns</p><table class=\"data-frame\"><thead><tr><th></th><th>A</th><th>Y</th></tr><tr><th></th><th title=\"Int64\">Int64</th><th title=\"Int64\">Int64</th></tr></thead><tbody><tr><th>1</th><td>5</td><td>5</td></tr><tr><th>2</th><td>10</td><td>10</td></tr><tr><th>3</th><td>15</td><td>15</td></tr><tr><th>4</th><td>20</td><td>20</td></tr><tr><th>5</th><td>25</td><td>15</td></tr></tbody></table></div>"
      ],
      "text/latex": [
       "\\begin{tabular}{r|cc}\n",
       "\t& A & Y\\\\\n",
       "\t\\hline\n",
       "\t& Int64 & Int64\\\\\n",
       "\t\\hline\n",
       "\t1 & 5 & 5 \\\\\n",
       "\t2 & 10 & 10 \\\\\n",
       "\t3 & 15 & 15 \\\\\n",
       "\t4 & 20 & 20 \\\\\n",
       "\t5 & 25 & 15 \\\\\n",
       "\\end{tabular}\n"
      ],
      "text/plain": [
       "\u001b[1m5×2 DataFrame\u001b[0m\n",
       "\u001b[1m Row \u001b[0m│\u001b[1m A     \u001b[0m\u001b[1m Y     \u001b[0m\n",
       "\u001b[1m     \u001b[0m│\u001b[90m Int64 \u001b[0m\u001b[90m Int64 \u001b[0m\n",
       "─────┼──────────────\n",
       "   1 │     5      5\n",
       "   2 │    10     10\n",
       "   3 │    15     15\n",
       "   4 │    20     20\n",
       "   5 │    25     15"
      ]
     },
     "execution_count": 9,
     "metadata": {},
     "output_type": "execute_result"
    }
   ],
   "source": [
    "df2 = DataFrame(:A => [5, 10, 15, 20, 25], :Y => [5, 10, 15, 20, 15])"
   ]
  },
  {
   "cell_type": "code",
   "execution_count": 21,
   "metadata": {},
   "outputs": [
    {
     "data": {
      "text/html": [
       "<div class=\"data-frame\"><p>7 rows × 5 columns</p><table class=\"data-frame\"><thead><tr><th></th><th>X</th><th>Y</th><th>Z</th><th>U</th><th>A</th></tr><tr><th></th><th title=\"Int64\">Int64</th><th title=\"Int64\">Int64</th><th title=\"Int64\">Int64</th><th title=\"Int64\">Int64</th><th title=\"Int64\">Int64</th></tr></thead><tbody><tr><th>1</th><td>5</td><td>5</td><td>25</td><td>1</td><td>5</td></tr><tr><th>2</th><td>10</td><td>10</td><td>100</td><td>2</td><td>10</td></tr><tr><th>3</th><td>15</td><td>15</td><td>225</td><td>3</td><td>15</td></tr><tr><th>4</th><td>10</td><td>15</td><td>99</td><td>5</td><td>15</td></tr><tr><th>5</th><td>20</td><td>20</td><td>400</td><td>4</td><td>20</td></tr><tr><th>6</th><td>15</td><td>15</td><td>225</td><td>3</td><td>25</td></tr><tr><th>7</th><td>10</td><td>15</td><td>99</td><td>5</td><td>25</td></tr></tbody></table></div>"
      ],
      "text/latex": [
       "\\begin{tabular}{r|ccccc}\n",
       "\t& X & Y & Z & U & A\\\\\n",
       "\t\\hline\n",
       "\t& Int64 & Int64 & Int64 & Int64 & Int64\\\\\n",
       "\t\\hline\n",
       "\t1 & 5 & 5 & 25 & 1 & 5 \\\\\n",
       "\t2 & 10 & 10 & 100 & 2 & 10 \\\\\n",
       "\t3 & 15 & 15 & 225 & 3 & 15 \\\\\n",
       "\t4 & 10 & 15 & 99 & 5 & 15 \\\\\n",
       "\t5 & 20 & 20 & 400 & 4 & 20 \\\\\n",
       "\t6 & 15 & 15 & 225 & 3 & 25 \\\\\n",
       "\t7 & 10 & 15 & 99 & 5 & 25 \\\\\n",
       "\\end{tabular}\n"
      ],
      "text/plain": [
       "\u001b[1m7×5 DataFrame\u001b[0m\n",
       "\u001b[1m Row \u001b[0m│\u001b[1m X     \u001b[0m\u001b[1m Y     \u001b[0m\u001b[1m Z     \u001b[0m\u001b[1m U     \u001b[0m\u001b[1m A     \u001b[0m\n",
       "\u001b[1m     \u001b[0m│\u001b[90m Int64 \u001b[0m\u001b[90m Int64 \u001b[0m\u001b[90m Int64 \u001b[0m\u001b[90m Int64 \u001b[0m\u001b[90m Int64 \u001b[0m\n",
       "─────┼───────────────────────────────────\n",
       "   1 │     5      5     25      1      5\n",
       "   2 │    10     10    100      2     10\n",
       "   3 │    15     15    225      3     15\n",
       "   4 │    10     15     99      5     15\n",
       "   5 │    20     20    400      4     20\n",
       "   6 │    15     15    225      3     25\n",
       "   7 │    10     15     99      5     25"
      ]
     },
     "execution_count": 21,
     "metadata": {},
     "output_type": "execute_result"
    }
   ],
   "source": [
    "innerjoin(df, df2, on = :Y)"
   ]
  },
  {
   "cell_type": "code",
   "execution_count": null,
   "metadata": {},
   "outputs": [],
   "source": [
    "df"
   ]
  },
  {
   "cell_type": "code",
   "execution_count": null,
   "metadata": {},
   "outputs": [],
   "source": [
    "df"
   ]
  },
  {
   "cell_type": "code",
   "execution_count": null,
   "metadata": {},
   "outputs": [],
   "source": [
    "sort!(df)"
   ]
  },
  {
   "cell_type": "code",
   "execution_count": null,
   "metadata": {},
   "outputs": [],
   "source": [
    "DataFrame([Float64, Float64, Int64, Int64], [Symbol(\"x$i\") for i in 1:4], 3)"
   ]
  },
  {
   "cell_type": "code",
   "execution_count": null,
   "metadata": {},
   "outputs": [],
   "source": [
    "df = DataFrame(:A => [5, missing, 6], :B => [5, 10, 2])"
   ]
  },
  {
   "cell_type": "code",
   "execution_count": null,
   "metadata": {},
   "outputs": [],
   "source": [
    "dropmissing(df)"
   ]
  },
  {
   "cell_type": "code",
   "execution_count": null,
   "metadata": {},
   "outputs": [],
   "source": [
    "df"
   ]
  },
  {
   "cell_type": "code",
   "execution_count": null,
   "metadata": {},
   "outputs": [],
   "source": [
    "dropmissing(df, :A)"
   ]
  },
  {
   "cell_type": "markdown",
   "metadata": {},
   "source": []
  },
  {
   "cell_type": "code",
   "execution_count": null,
   "metadata": {},
   "outputs": [],
   "source": [
    "df3  = DataFrame(x=[1,missing,3,nothing,5,NaN], y='a':'f')\n"
   ]
  },
  {
   "cell_type": "code",
   "execution_count": null,
   "metadata": {},
   "outputs": [],
   "source": [
    "filter( [1] => x -> !any(f -> f(x), (ismissing, isnothing, isnan)), df3)"
   ]
  },
  {
   "cell_type": "code",
   "execution_count": null,
   "metadata": {},
   "outputs": [],
   "source": [
    "filter(:x => x -> !any(f -> f(x), (ismissing, isnothing, isnan)), df3)"
   ]
  },
  {
   "cell_type": "code",
   "execution_count": null,
   "metadata": {},
   "outputs": [],
   "source": [
    "\n",
    "df = DataFrame(x=[missing,NaN,3432.34,432.2,NaN, 43.])\n",
    "# select numerical type columns from a DataFrame df3\n",
    "filter(:x => x -> !any(f -> f(x), (ismissing, isnothing, isnan)), df)"
   ]
  },
  {
   "cell_type": "code",
   "execution_count": null,
   "metadata": {},
   "outputs": [],
   "source": [
    "df = DataFrame(A=[1,3,4,5,6,432], B=[1,3,4,5,6,3], C=[\"a\",\"b\",\"c\",\"d\",\"e\",\"f\"])"
   ]
  },
  {
   "cell_type": "code",
   "execution_count": null,
   "metadata": {},
   "outputs": [],
   "source": [
    "using Missings\n",
    "# drop columns with not number values - using subtype operator <: \n",
    "df = df[:, map(col -> eltype(col) <: Number, eachcol(df))]\n",
    "# note use of subtype operator <:\n",
    "\n",
    "\n",
    "\n"
   ]
  },
  {
   "cell_type": "code",
   "execution_count": null,
   "metadata": {},
   "outputs": [],
   "source": [
    "\n",
    "using DataFrames; df = CSV.read(\"house100Data.csv\", DataFrame)\n",
    "describe(df)"
   ]
  },
  {
   "cell_type": "code",
   "execution_count": null,
   "metadata": {},
   "outputs": [],
   "source": [
    "Pkg.add(\"JSON\")\n",
    "using JSON\n",
    "using HTTP\n",
    "\n",
    "url = \"https://pollysnips.s3.amazonaws.com/contacts.json\"\n",
    "res = HTTP.get(url)\n",
    "str = String(res.body)\n",
    "jobj = JSON.Parser.parse(str)\n"
   ]
  },
  {
   "cell_type": "code",
   "execution_count": null,
   "metadata": {},
   "outputs": [],
   "source": [
    "df = DataFrame(A = 1:4, B = [\"M\", \"F\", \"F\", \"M\"])\n",
    "df2 = DataFrame(A = 6, B = [\"F\"])\n",
    "df3 = vcat(df, df2)\n"
   ]
  },
  {
   "cell_type": "code",
   "execution_count": 24,
   "metadata": {},
   "outputs": [
    {
     "data": {
      "text/plain": [
       "\"books.csv\""
      ]
     },
     "execution_count": 24,
     "metadata": {},
     "output_type": "execute_result"
    }
   ],
   "source": [
    "# we have a list of 3 books and their authors. Some of the books have more than one author\n",
    "# list of books \"The Hobbit\", \"The Lord of the Rings\", \"The Silmarillion\"\n",
    "# list of authors \"J.R.R. Tolkien\", \"J.R.R. Tolkien\",     \"J.R.R. Tolkien\" and \"Christopher Tolkien\"\n",
    "# construct a dataframe with two columns: Book and Author\n",
    "a = [\"The Hobbit\", \"The Lord of the Rings\", \"The Silmarillion\"]\n",
    "b = [[\"J.R.R. Tolkien\"], [\"J.R.R. Tolkien\"], [\"J.R.R. Tolkien\", \"Christopher Tolkien\"]]\n",
    "df = DataFrame(Book = a, Author = b)\n",
    "CSV.write(\"books.csv\", df)"
   ]
  }
 ],
 "metadata": {
  "@webio": {
   "lastCommId": null,
   "lastKernelId": null
  },
  "kernelspec": {
   "display_name": "Julia 1.7.1",
   "language": "julia",
   "name": "julia-1.7"
  },
  "language_info": {
   "file_extension": ".jl",
   "mimetype": "application/julia",
   "name": "julia",
   "version": "1.7.1"
  }
 },
 "nbformat": 4,
 "nbformat_minor": 2
}
