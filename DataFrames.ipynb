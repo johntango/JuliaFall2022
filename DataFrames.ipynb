{
 "cells": [
  {
   "cell_type": "code",
   "execution_count": 3,
   "metadata": {},
   "outputs": [
    {
     "name": "stderr",
     "output_type": "stream",
     "text": [
      "\u001b[32m\u001b[1m    Updating\u001b[22m\u001b[39m registry at `~/.julia/registries/General.toml`\n",
      "\u001b[32m\u001b[1m   Resolving\u001b[22m\u001b[39m package versions...\n",
      "\u001b[32m\u001b[1m  No Changes\u001b[22m\u001b[39m to `~/.julia/environments/v1.7/Project.toml`\n",
      "\u001b[32m\u001b[1m  No Changes\u001b[22m\u001b[39m to `~/.julia/environments/v1.7/Manifest.toml`\n",
      "\u001b[32m\u001b[1m   Resolving\u001b[22m\u001b[39m package versions...\n",
      "\u001b[32m\u001b[1m  No Changes\u001b[22m\u001b[39m to `~/.julia/environments/v1.7/Project.toml`\n",
      "\u001b[32m\u001b[1m  No Changes\u001b[22m\u001b[39m to `~/.julia/environments/v1.7/Manifest.toml`\n",
      "\u001b[32m\u001b[1m   Resolving\u001b[22m\u001b[39m package versions...\n",
      "\u001b[32m\u001b[1m  No Changes\u001b[22m\u001b[39m to `~/.julia/environments/v1.7/Project.toml`\n",
      "\u001b[32m\u001b[1m  No Changes\u001b[22m\u001b[39m to `~/.julia/environments/v1.7/Manifest.toml`\n",
      "\u001b[32m\u001b[1m   Resolving\u001b[22m\u001b[39m package versions...\n",
      "\u001b[32m\u001b[1m    Updating\u001b[22m\u001b[39m `~/.julia/environments/v1.7/Project.toml`\n",
      " \u001b[90m [10745b16] \u001b[39m\u001b[92m+ Statistics\u001b[39m\n",
      "\u001b[32m\u001b[1m  No Changes\u001b[22m\u001b[39m to `~/.julia/environments/v1.7/Manifest.toml`\n"
     ]
    }
   ],
   "source": [
    "import Pkg; Pkg.add(\"DataFrames\")\n",
    "Pkg.add(\"Missings\")\n",
    "Pkg.add(\"CSV\")\n",
    "Pkg.add(\"Statistics\")\n",
    "using DataFrames\n",
    "using CSV\n",
    "using Missings\n",
    "using Statistics"
   ]
  },
  {
   "cell_type": "code",
   "execution_count": 33,
   "metadata": {},
   "outputs": [
    {
     "data": {
      "text/html": [
       "<div class=\"data-frame\"><p>5 rows × 4 columns</p><table class=\"data-frame\"><thead><tr><th></th><th>colour</th><th>shape</th><th>border</th><th>area</th></tr><tr><th></th><th title=\"String\">String</th><th title=\"String\">String</th><th title=\"String\">String</th><th title=\"Union{Missing, Float64}\">Float64?</th></tr></thead><tbody><tr><th>1</th><td>green</td><td>circle</td><td>dotted</td><td>1.1</td></tr><tr><th>2</th><td>blue</td><td>triangle</td><td>line</td><td>2.3</td></tr><tr><th>3</th><td>white</td><td>square</td><td>line</td><td>3.1</td></tr><tr><th>4</th><td>green</td><td>square</td><td>line</td><td><em>missing</em></td></tr><tr><th>5</th><td>green</td><td>circle</td><td>dotted</td><td>5.2</td></tr></tbody></table></div>"
      ],
      "text/latex": [
       "\\begin{tabular}{r|cccc}\n",
       "\t& colour & shape & border & area\\\\\n",
       "\t\\hline\n",
       "\t& String & String & String & Float64?\\\\\n",
       "\t\\hline\n",
       "\t1 & green & circle & dotted & 1.1 \\\\\n",
       "\t2 & blue & triangle & line & 2.3 \\\\\n",
       "\t3 & white & square & line & 3.1 \\\\\n",
       "\t4 & green & square & line & \\emph{missing} \\\\\n",
       "\t5 & green & circle & dotted & 5.2 \\\\\n",
       "\\end{tabular}\n"
      ],
      "text/plain": [
       "\u001b[1m5×4 DataFrame\u001b[0m\n",
       "\u001b[1m Row \u001b[0m│\u001b[1m colour \u001b[0m\u001b[1m shape    \u001b[0m\u001b[1m border \u001b[0m\u001b[1m area      \u001b[0m\n",
       "\u001b[1m     \u001b[0m│\u001b[90m String \u001b[0m\u001b[90m String   \u001b[0m\u001b[90m String \u001b[0m\u001b[90m Float64?  \u001b[0m\n",
       "─────┼─────────────────────────────────────\n",
       "   1 │ green   circle    dotted        1.1\n",
       "   2 │ blue    triangle  line          2.3\n",
       "   3 │ white   square    line          3.1\n",
       "   4 │ green   square    line   \u001b[90m missing   \u001b[0m\n",
       "   5 │ green   circle    dotted        5.2"
      ]
     },
     "execution_count": 33,
     "metadata": {},
     "output_type": "execute_result"
    }
   ],
   "source": [
    "df = DataFrame(\n",
    "colour = [\"green\",\"blue\",\"white\",\"green\",\"green\"],\n",
    "shape  = [\"circle\", \"triangle\", \"square\",\"square\",\"circle\"],\n",
    "border = [\"dotted\", \"line\", \"line\", \"line\", \"dotted\"],\n",
    "area   = [1.1, 2.3, 3.1, missing, 5.2])\n"
   ]
  },
  {
   "cell_type": "code",
   "execution_count": 4,
   "metadata": {},
   "outputs": [
    {
     "data": {
      "text/plain": [
       "(:H => [5, 10], :J => [10, 15])"
      ]
     },
     "execution_count": 4,
     "metadata": {},
     "output_type": "execute_result"
    }
   ],
   "source": [
    "tuples = (:H => [5, 10], :J => [10, 15])"
   ]
  },
  {
   "cell_type": "code",
   "execution_count": 5,
   "metadata": {},
   "outputs": [
    {
     "data": {
      "text/plain": [
       "Tuple{Pair{Symbol, Vector{Int64}}, Pair{Symbol, Vector{Int64}}}"
      ]
     },
     "execution_count": 5,
     "metadata": {},
     "output_type": "execute_result"
    }
   ],
   "source": [
    "typeof(tuples)"
   ]
  },
  {
   "cell_type": "code",
   "execution_count": 6,
   "metadata": {},
   "outputs": [
    {
     "data": {
      "text/html": [
       "<div class=\"data-frame\"><p>2 rows × 2 columns</p><table class=\"data-frame\"><thead><tr><th></th><th>first</th><th>second</th></tr><tr><th></th><th title=\"Symbol\">Symbol</th><th title=\"Vector{Int64}\">Array…</th></tr></thead><tbody><tr><th>1</th><td>H</td><td>[5, 10]</td></tr><tr><th>2</th><td>J</td><td>[10, 15]</td></tr></tbody></table></div>"
      ],
      "text/latex": [
       "\\begin{tabular}{r|cc}\n",
       "\t& first & second\\\\\n",
       "\t\\hline\n",
       "\t& Symbol & Array…\\\\\n",
       "\t\\hline\n",
       "\t1 & H & [5, 10] \\\\\n",
       "\t2 & J & [10, 15] \\\\\n",
       "\\end{tabular}\n"
      ],
      "text/plain": [
       "\u001b[1m2×2 DataFrame\u001b[0m\n",
       "\u001b[1m Row \u001b[0m│\u001b[1m first  \u001b[0m\u001b[1m second   \u001b[0m\n",
       "\u001b[1m     \u001b[0m│\u001b[90m Symbol \u001b[0m\u001b[90m Array…   \u001b[0m\n",
       "─────┼──────────────────\n",
       "   1 │ H       [5, 10]\n",
       "   2 │ J       [10, 15]"
      ]
     },
     "execution_count": 6,
     "metadata": {},
     "output_type": "execute_result"
    }
   ],
   "source": [
    "df = DataFrame(tuples)"
   ]
  },
  {
   "cell_type": "code",
   "execution_count": 7,
   "metadata": {},
   "outputs": [
    {
     "data": {
      "text/plain": [
       "2-element Vector{String}:\n",
       " \"first\"\n",
       " \"second\""
      ]
     },
     "execution_count": 7,
     "metadata": {},
     "output_type": "execute_result"
    }
   ],
   "source": [
    "names(df)"
   ]
  },
  {
   "cell_type": "code",
   "execution_count": 8,
   "metadata": {},
   "outputs": [
    {
     "data": {
      "text/plain": [
       "Dict{Symbol, Vector{Int64}} with 2 entries:\n",
       "  :H => [5, 10, 15, 20]\n",
       "  :J => [1, 2, 3, 4]"
      ]
     },
     "execution_count": 8,
     "metadata": {},
     "output_type": "execute_result"
    }
   ],
   "source": [
    "dict = Dict(:H => [5, 10, 15, 20], :J => [1, 2, 3, 4])"
   ]
  },
  {
   "cell_type": "code",
   "execution_count": 20,
   "metadata": {},
   "outputs": [
    {
     "ename": "LoadError",
     "evalue": "MethodError: no method matching describe(::Dict{Symbol, Vector{Int64}})\n\u001b[0mClosest candidates are:\n\u001b[0m  describe(\u001b[91m::AbstractDataFrame\u001b[39m; cols) at ~/.julia/packages/DataFrames/JZ7x5/src/abstractdataframe/abstractdataframe.jl:605\n\u001b[0m  describe(\u001b[91m::AbstractDataFrame\u001b[39m, \u001b[91m::Union{Symbol, Pair{<:Union{Function, Type}, <:Union{AbstractString, Symbol}}}...\u001b[39m; cols) at ~/.julia/packages/DataFrames/JZ7x5/src/abstractdataframe/abstractdataframe.jl:602",
     "output_type": "error",
     "traceback": [
      "MethodError: no method matching describe(::Dict{Symbol, Vector{Int64}})\n\u001b[0mClosest candidates are:\n\u001b[0m  describe(\u001b[91m::AbstractDataFrame\u001b[39m; cols) at ~/.julia/packages/DataFrames/JZ7x5/src/abstractdataframe/abstractdataframe.jl:605\n\u001b[0m  describe(\u001b[91m::AbstractDataFrame\u001b[39m, \u001b[91m::Union{Symbol, Pair{<:Union{Function, Type}, <:Union{AbstractString, Symbol}}}...\u001b[39m; cols) at ~/.julia/packages/DataFrames/JZ7x5/src/abstractdataframe/abstractdataframe.jl:602",
      "",
      "Stacktrace:",
      " [1] top-level scope",
      "   @ In[20]:1",
      " [2] eval",
      "   @ ./boot.jl:373 [inlined]",
      " [3] include_string(mapexpr::typeof(REPL.softscope), mod::Module, code::String, filename::String)",
      "   @ Base ./loading.jl:1196"
     ]
    }
   ],
   "source": [
    "typeof(dict)"
   ]
  },
  {
   "cell_type": "code",
   "execution_count": 21,
   "metadata": {},
   "outputs": [
    {
     "data": {
      "text/html": [
       "<div class=\"data-frame\"><p>2 rows × 7 columns</p><table class=\"data-frame\"><thead><tr><th></th><th>variable</th><th>mean</th><th>min</th><th>median</th><th>max</th><th>nmissing</th><th>eltype</th></tr><tr><th></th><th title=\"Symbol\">Symbol</th><th title=\"Float64\">Float64</th><th title=\"Int64\">Int64</th><th title=\"Float64\">Float64</th><th title=\"Int64\">Int64</th><th title=\"Int64\">Int64</th><th title=\"DataType\">DataType</th></tr></thead><tbody><tr><th>1</th><td>H</td><td>12.5</td><td>5</td><td>12.5</td><td>20</td><td>0</td><td>Int64</td></tr><tr><th>2</th><td>J</td><td>2.5</td><td>1</td><td>2.5</td><td>4</td><td>0</td><td>Int64</td></tr></tbody></table></div>"
      ],
      "text/latex": [
       "\\begin{tabular}{r|ccccccc}\n",
       "\t& variable & mean & min & median & max & nmissing & eltype\\\\\n",
       "\t\\hline\n",
       "\t& Symbol & Float64 & Int64 & Float64 & Int64 & Int64 & DataType\\\\\n",
       "\t\\hline\n",
       "\t1 & H & 12.5 & 5 & 12.5 & 20 & 0 & Int64 \\\\\n",
       "\t2 & J & 2.5 & 1 & 2.5 & 4 & 0 & Int64 \\\\\n",
       "\\end{tabular}\n"
      ],
      "text/plain": [
       "\u001b[1m2×7 DataFrame\u001b[0m\n",
       "\u001b[1m Row \u001b[0m│\u001b[1m variable \u001b[0m\u001b[1m mean    \u001b[0m\u001b[1m min   \u001b[0m\u001b[1m median  \u001b[0m\u001b[1m max   \u001b[0m\u001b[1m nmissing \u001b[0m\u001b[1m eltype   \u001b[0m\n",
       "\u001b[1m     \u001b[0m│\u001b[90m Symbol   \u001b[0m\u001b[90m Float64 \u001b[0m\u001b[90m Int64 \u001b[0m\u001b[90m Float64 \u001b[0m\u001b[90m Int64 \u001b[0m\u001b[90m Int64    \u001b[0m\u001b[90m DataType \u001b[0m\n",
       "─────┼──────────────────────────────────────────────────────────────\n",
       "   1 │ H            12.5      5     12.5     20         0  Int64\n",
       "   2 │ J             2.5      1      2.5      4         0  Int64"
      ]
     },
     "execution_count": 21,
     "metadata": {},
     "output_type": "execute_result"
    }
   ],
   "source": [
    "df = DataFrame(dict)\n",
    "describe(df)\n",
    "\n"
   ]
  },
  {
   "cell_type": "code",
   "execution_count": 25,
   "metadata": {},
   "outputs": [
    {
     "data": {
      "text/html": [
       "<div class=\"data-frame\"><p>4 rows × 2 columns</p><table class=\"data-frame\"><thead><tr><th></th><th>X</th><th>Y</th></tr><tr><th></th><th title=\"Int64\">Int64</th><th title=\"Int64\">Int64</th></tr></thead><tbody><tr><th>1</th><td>5</td><td>5</td></tr><tr><th>2</th><td>10</td><td>10</td></tr><tr><th>3</th><td>15</td><td>15</td></tr><tr><th>4</th><td>20</td><td>20</td></tr></tbody></table></div>"
      ],
      "text/latex": [
       "\\begin{tabular}{r|cc}\n",
       "\t& X & Y\\\\\n",
       "\t\\hline\n",
       "\t& Int64 & Int64\\\\\n",
       "\t\\hline\n",
       "\t1 & 5 & 5 \\\\\n",
       "\t2 & 10 & 10 \\\\\n",
       "\t3 & 15 & 15 \\\\\n",
       "\t4 & 20 & 20 \\\\\n",
       "\\end{tabular}\n"
      ],
      "text/plain": [
       "\u001b[1m4×2 DataFrame\u001b[0m\n",
       "\u001b[1m Row \u001b[0m│\u001b[1m X     \u001b[0m\u001b[1m Y     \u001b[0m\n",
       "\u001b[1m     \u001b[0m│\u001b[90m Int64 \u001b[0m\u001b[90m Int64 \u001b[0m\n",
       "─────┼──────────────\n",
       "   1 │     5      5\n",
       "   2 │    10     10\n",
       "   3 │    15     15\n",
       "   4 │    20     20"
      ]
     },
     "execution_count": 25,
     "metadata": {},
     "output_type": "execute_result"
    }
   ],
   "source": [
    "df = DataFrame(:X => [5,10,15,20], :Y => [5,10,15,20])"
   ]
  },
  {
   "cell_type": "code",
   "execution_count": 26,
   "metadata": {},
   "outputs": [
    {
     "data": {
      "text/html": [
       "<div class=\"data-frame\"><p>5 rows × 2 columns</p><table class=\"data-frame\"><thead><tr><th></th><th>X</th><th>Y</th></tr><tr><th></th><th title=\"Int64\">Int64</th><th title=\"Int64\">Int64</th></tr></thead><tbody><tr><th>1</th><td>5</td><td>5</td></tr><tr><th>2</th><td>10</td><td>10</td></tr><tr><th>3</th><td>15</td><td>15</td></tr><tr><th>4</th><td>20</td><td>20</td></tr><tr><th>5</th><td>10</td><td>15</td></tr></tbody></table></div>"
      ],
      "text/latex": [
       "\\begin{tabular}{r|cc}\n",
       "\t& X & Y\\\\\n",
       "\t\\hline\n",
       "\t& Int64 & Int64\\\\\n",
       "\t\\hline\n",
       "\t1 & 5 & 5 \\\\\n",
       "\t2 & 10 & 10 \\\\\n",
       "\t3 & 15 & 15 \\\\\n",
       "\t4 & 20 & 20 \\\\\n",
       "\t5 & 10 & 15 \\\\\n",
       "\\end{tabular}\n"
      ],
      "text/plain": [
       "\u001b[1m5×2 DataFrame\u001b[0m\n",
       "\u001b[1m Row \u001b[0m│\u001b[1m X     \u001b[0m\u001b[1m Y     \u001b[0m\n",
       "\u001b[1m     \u001b[0m│\u001b[90m Int64 \u001b[0m\u001b[90m Int64 \u001b[0m\n",
       "─────┼──────────────\n",
       "   1 │     5      5\n",
       "   2 │    10     10\n",
       "   3 │    15     15\n",
       "   4 │    20     20\n",
       "   5 │    10     15"
      ]
     },
     "execution_count": 26,
     "metadata": {},
     "output_type": "execute_result"
    }
   ],
   "source": [
    "push!(df, [10, 15])"
   ]
  },
  {
   "cell_type": "code",
   "execution_count": 27,
   "metadata": {},
   "outputs": [
    {
     "data": {
      "text/plain": [
       "5-element Vector{Int64}:\n",
       "  5\n",
       " 10\n",
       " 15\n",
       " 20\n",
       " 10"
      ]
     },
     "execution_count": 27,
     "metadata": {},
     "output_type": "execute_result"
    }
   ],
   "source": [
    "# Child of struct:\n",
    "acol = df.X\n",
    "acol "
   ]
  },
  {
   "cell_type": "code",
   "execution_count": 13,
   "metadata": {},
   "outputs": [
    {
     "data": {
      "text/plain": [
       "5-element Vector{Int64}:\n",
       "  5\n",
       " 10\n",
       " 15\n",
       " 20\n",
       " 10"
      ]
     },
     "execution_count": 13,
     "metadata": {},
     "output_type": "execute_result"
    }
   ],
   "source": [
    "# Key:\n",
    "df[!, :X]"
   ]
  },
  {
   "cell_type": "code",
   "execution_count": 14,
   "metadata": {},
   "outputs": [
    {
     "data": {
      "text/plain": [
       "2-element Vector{String}:\n",
       " \"X\"\n",
       " \"Y\""
      ]
     },
     "execution_count": 14,
     "metadata": {},
     "output_type": "execute_result"
    }
   ],
   "source": [
    "names(df)"
   ]
  },
  {
   "cell_type": "code",
   "execution_count": 15,
   "metadata": {},
   "outputs": [
    {
     "data": {
      "text/plain": [
       "5-element Vector{Int64}:\n",
       " 1\n",
       " 2\n",
       " 3\n",
       " 4\n",
       " 5"
      ]
     },
     "execution_count": 15,
     "metadata": {},
     "output_type": "execute_result"
    }
   ],
   "source": [
    "df[!, :Z] = [1, 2, 3, 4, 5]"
   ]
  },
  {
   "cell_type": "code",
   "execution_count": 16,
   "metadata": {},
   "outputs": [
    {
     "name": "stdout",
     "output_type": "stream",
     "text": [
      "\u001b[1m5×3 DataFrame\u001b[0m\n",
      "\u001b[1m Row \u001b[0m│\u001b[1m X     \u001b[0m\u001b[1m Y     \u001b[0m\u001b[1m Z     \u001b[0m\n",
      "\u001b[1m     \u001b[0m│\u001b[90m Int64 \u001b[0m\u001b[90m Int64 \u001b[0m\u001b[90m Int64 \u001b[0m\n",
      "─────┼─────────────────────\n",
      "   1 │     5      5      1\n",
      "   2 │    10     10      2\n",
      "   3 │    15     15      3\n",
      "   4 │    20     20      4\n",
      "   5 │    10     15      5"
     ]
    }
   ],
   "source": [
    "show(df)"
   ]
  },
  {
   "cell_type": "code",
   "execution_count": 18,
   "metadata": {},
   "outputs": [
    {
     "name": "stdout",
     "output_type": "stream",
     "text": [
      "\u001b[1m5×3 DataFrame\u001b[0m\n",
      "\u001b[1m Row \u001b[0m│\u001b[1m X     \u001b[0m\u001b[1m Y     \u001b[0m\u001b[1m Z     \u001b[0m\n",
      "\u001b[1m     \u001b[0m│\u001b[90m Int64 \u001b[0m\u001b[90m Int64 \u001b[0m\u001b[90m Int64 \u001b[0m\n",
      "─────┼─────────────────────\n",
      "   1 │     5      5      1\n",
      "   2 │    10     10      2\n",
      "   3 │    15     15      3\n",
      "   4 │    20     20      4\n",
      "   5 │    10     15      5"
     ]
    }
   ],
   "source": [
    "show(df, allcols = true)"
   ]
  },
  {
   "cell_type": "code",
   "execution_count": 19,
   "metadata": {},
   "outputs": [
    {
     "data": {
      "text/html": [
       "<table class=\"data-frame\"><thead><tr><th></th><th>X</th><th>Y</th><th>Z</th></tr><tr><th></th><th>Int64</th><th>Int64</th><th>Int64</th></tr></thead><tbody><p>2 rows × 3 columns</p><tr><th>1</th><td>5</td><td>5</td><td>1</td></tr><tr><th>2</th><td>10</td><td>10</td><td>2</td></tr></tbody></table>"
      ],
      "text/latex": [
       "\\begin{tabular}{r|ccc}\n",
       "\t& X & Y & Z\\\\\n",
       "\t\\hline\n",
       "\t& Int64 & Int64 & Int64\\\\\n",
       "\t\\hline\n",
       "\t1 & 5 & 5 & 1 \\\\\n",
       "\t2 & 10 & 10 & 2 \\\\\n",
       "\\end{tabular}\n"
      ],
      "text/plain": [
       "\u001b[1m2×3 DataFrame\u001b[0m\n",
       "\u001b[1m Row \u001b[0m│\u001b[1m X     \u001b[0m\u001b[1m Y     \u001b[0m\u001b[1m Z     \u001b[0m\n",
       "\u001b[1m     \u001b[0m│\u001b[90m Int64 \u001b[0m\u001b[90m Int64 \u001b[0m\u001b[90m Int64 \u001b[0m\n",
       "─────┼─────────────────────\n",
       "   1 │     5      5      1\n",
       "   2 │    10     10      2"
      ]
     },
     "execution_count": 19,
     "metadata": {},
     "output_type": "execute_result"
    }
   ],
   "source": [
    "first(df, 2)"
   ]
  },
  {
   "cell_type": "code",
   "execution_count": 20,
   "metadata": {},
   "outputs": [
    {
     "data": {
      "text/html": [
       "<table class=\"data-frame\"><thead><tr><th></th><th>X</th><th>Y</th><th>Z</th></tr><tr><th></th><th>Int64</th><th>Int64</th><th>Int64</th></tr></thead><tbody><p>3 rows × 3 columns</p><tr><th>1</th><td>15</td><td>15</td><td>3</td></tr><tr><th>2</th><td>20</td><td>20</td><td>4</td></tr><tr><th>3</th><td>10</td><td>15</td><td>5</td></tr></tbody></table>"
      ],
      "text/latex": [
       "\\begin{tabular}{r|ccc}\n",
       "\t& X & Y & Z\\\\\n",
       "\t\\hline\n",
       "\t& Int64 & Int64 & Int64\\\\\n",
       "\t\\hline\n",
       "\t1 & 15 & 15 & 3 \\\\\n",
       "\t2 & 20 & 20 & 4 \\\\\n",
       "\t3 & 10 & 15 & 5 \\\\\n",
       "\\end{tabular}\n"
      ],
      "text/plain": [
       "\u001b[1m3×3 DataFrame\u001b[0m\n",
       "\u001b[1m Row \u001b[0m│\u001b[1m X     \u001b[0m\u001b[1m Y     \u001b[0m\u001b[1m Z     \u001b[0m\n",
       "\u001b[1m     \u001b[0m│\u001b[90m Int64 \u001b[0m\u001b[90m Int64 \u001b[0m\u001b[90m Int64 \u001b[0m\n",
       "─────┼─────────────────────\n",
       "   1 │    15     15      3\n",
       "   2 │    20     20      4\n",
       "   3 │    10     15      5"
      ]
     },
     "execution_count": 20,
     "metadata": {},
     "output_type": "execute_result"
    }
   ],
   "source": [
    "last(df, 3)"
   ]
  },
  {
   "cell_type": "code",
   "execution_count": 21,
   "metadata": {},
   "outputs": [
    {
     "data": {
      "text/html": [
       "<table class=\"data-frame\"><thead><tr><th></th><th>X</th><th>Y</th><th>Z</th></tr><tr><th></th><th>Int64</th><th>Int64</th><th>Int64</th></tr></thead><tbody><p>3 rows × 3 columns</p><tr><th>1</th><td>10</td><td>10</td><td>2</td></tr><tr><th>2</th><td>15</td><td>15</td><td>3</td></tr><tr><th>3</th><td>20</td><td>20</td><td>4</td></tr></tbody></table>"
      ],
      "text/latex": [
       "\\begin{tabular}{r|ccc}\n",
       "\t& X & Y & Z\\\\\n",
       "\t\\hline\n",
       "\t& Int64 & Int64 & Int64\\\\\n",
       "\t\\hline\n",
       "\t1 & 10 & 10 & 2 \\\\\n",
       "\t2 & 15 & 15 & 3 \\\\\n",
       "\t3 & 20 & 20 & 4 \\\\\n",
       "\\end{tabular}\n"
      ],
      "text/plain": [
       "\u001b[1m3×3 DataFrame\u001b[0m\n",
       "\u001b[1m Row \u001b[0m│\u001b[1m X     \u001b[0m\u001b[1m Y     \u001b[0m\u001b[1m Z     \u001b[0m\n",
       "\u001b[1m     \u001b[0m│\u001b[90m Int64 \u001b[0m\u001b[90m Int64 \u001b[0m\u001b[90m Int64 \u001b[0m\n",
       "─────┼─────────────────────\n",
       "   1 │    10     10      2\n",
       "   2 │    15     15      3\n",
       "   3 │    20     20      4"
      ]
     },
     "execution_count": 21,
     "metadata": {},
     "output_type": "execute_result"
    }
   ],
   "source": [
    "df[2:4, :]"
   ]
  },
  {
   "cell_type": "code",
   "execution_count": 22,
   "metadata": {},
   "outputs": [
    {
     "data": {
      "text/html": [
       "<table class=\"data-frame\"><thead><tr><th></th><th>X</th><th>Y</th><th>Z</th></tr><tr><th></th><th>Int64</th><th>Int64</th><th>Int64</th></tr></thead><tbody><p>2 rows × 3 columns</p><tr><th>1</th><td>5</td><td>5</td><td>1</td></tr><tr><th>2</th><td>10</td><td>15</td><td>5</td></tr></tbody></table>"
      ],
      "text/latex": [
       "\\begin{tabular}{r|ccc}\n",
       "\t& X & Y & Z\\\\\n",
       "\t\\hline\n",
       "\t& Int64 & Int64 & Int64\\\\\n",
       "\t\\hline\n",
       "\t1 & 5 & 5 & 1 \\\\\n",
       "\t2 & 10 & 15 & 5 \\\\\n",
       "\\end{tabular}\n"
      ],
      "text/plain": [
       "\u001b[1m2×3 DataFrame\u001b[0m\n",
       "\u001b[1m Row \u001b[0m│\u001b[1m X     \u001b[0m\u001b[1m Y     \u001b[0m\u001b[1m Z     \u001b[0m\n",
       "\u001b[1m     \u001b[0m│\u001b[90m Int64 \u001b[0m\u001b[90m Int64 \u001b[0m\u001b[90m Int64 \u001b[0m\n",
       "─────┼─────────────────────\n",
       "   1 │     5      5      1\n",
       "   2 │    10     15      5"
      ]
     },
     "execution_count": 22,
     "metadata": {},
     "output_type": "execute_result"
    }
   ],
   "source": [
    "df[Not(2:4), :]"
   ]
  },
  {
   "cell_type": "code",
   "execution_count": 17,
   "metadata": {},
   "outputs": [
    {
     "name": "stdout",
     "output_type": "stream",
     "text": [
      "\u001b[1m5×3 DataFrame\u001b[0m\n",
      "\u001b[1m Row \u001b[0m│\u001b[1m X     \u001b[0m\u001b[1m Y     \u001b[0m\u001b[1m Z     \u001b[0m\n",
      "\u001b[1m     \u001b[0m│\u001b[90m Int64 \u001b[0m\u001b[90m Int64 \u001b[0m\u001b[90m Int64 \u001b[0m\n",
      "─────┼─────────────────────\n",
      "   1 │     5      5      1\n",
      "   2 │    10     10      2\n",
      "   3 │    15     15      3\n",
      "   4 │    20     20      4\n",
      "   5 │    10     15      5"
     ]
    }
   ],
   "source": [
    "show(df)"
   ]
  },
  {
   "cell_type": "code",
   "execution_count": 24,
   "metadata": {},
   "outputs": [
    {
     "data": {
      "text/plain": [
       "10"
      ]
     },
     "execution_count": 24,
     "metadata": {},
     "output_type": "execute_result"
    }
   ],
   "source": [
    "df[2, 2]"
   ]
  },
  {
   "cell_type": "code",
   "execution_count": 7,
   "metadata": {},
   "outputs": [
    {
     "data": {
      "text/html": [
       "<div class=\"data-frame\"><p>5 rows × 2 columns</p><table class=\"data-frame\"><thead><tr><th></th><th>A</th><th>Y</th></tr><tr><th></th><th title=\"Int64\">Int64</th><th title=\"Int64\">Int64</th></tr></thead><tbody><tr><th>1</th><td>5</td><td>5</td></tr><tr><th>2</th><td>10</td><td>10</td></tr><tr><th>3</th><td>15</td><td>15</td></tr><tr><th>4</th><td>20</td><td>20</td></tr><tr><th>5</th><td>25</td><td>15</td></tr></tbody></table></div>"
      ],
      "text/latex": [
       "\\begin{tabular}{r|cc}\n",
       "\t& A & Y\\\\\n",
       "\t\\hline\n",
       "\t& Int64 & Int64\\\\\n",
       "\t\\hline\n",
       "\t1 & 5 & 5 \\\\\n",
       "\t2 & 10 & 10 \\\\\n",
       "\t3 & 15 & 15 \\\\\n",
       "\t4 & 20 & 20 \\\\\n",
       "\t5 & 25 & 15 \\\\\n",
       "\\end{tabular}\n"
      ],
      "text/plain": [
       "\u001b[1m5×2 DataFrame\u001b[0m\n",
       "\u001b[1m Row \u001b[0m│\u001b[1m A     \u001b[0m\u001b[1m Y     \u001b[0m\n",
       "\u001b[1m     \u001b[0m│\u001b[90m Int64 \u001b[0m\u001b[90m Int64 \u001b[0m\n",
       "─────┼──────────────\n",
       "   1 │     5      5\n",
       "   2 │    10     10\n",
       "   3 │    15     15\n",
       "   4 │    20     20\n",
       "   5 │    25     15"
      ]
     },
     "execution_count": 7,
     "metadata": {},
     "output_type": "execute_result"
    }
   ],
   "source": [
    "df2 = DataFrame(:A => [5, 10, 15, 20, 25], :Y => [5, 10, 15, 20, 15])"
   ]
  },
  {
   "cell_type": "code",
   "execution_count": 18,
   "metadata": {},
   "outputs": [
    {
     "data": {
      "text/html": [
       "<div class=\"data-frame\"><p>7 rows × 4 columns</p><table class=\"data-frame\"><thead><tr><th></th><th>X</th><th>Y</th><th>Z</th><th>A</th></tr><tr><th></th><th title=\"Int64\">Int64</th><th title=\"Int64\">Int64</th><th title=\"Int64\">Int64</th><th title=\"Int64\">Int64</th></tr></thead><tbody><tr><th>1</th><td>5</td><td>5</td><td>1</td><td>5</td></tr><tr><th>2</th><td>10</td><td>10</td><td>2</td><td>10</td></tr><tr><th>3</th><td>15</td><td>15</td><td>3</td><td>15</td></tr><tr><th>4</th><td>10</td><td>15</td><td>5</td><td>15</td></tr><tr><th>5</th><td>20</td><td>20</td><td>4</td><td>20</td></tr><tr><th>6</th><td>15</td><td>15</td><td>3</td><td>25</td></tr><tr><th>7</th><td>10</td><td>15</td><td>5</td><td>25</td></tr></tbody></table></div>"
      ],
      "text/latex": [
       "\\begin{tabular}{r|cccc}\n",
       "\t& X & Y & Z & A\\\\\n",
       "\t\\hline\n",
       "\t& Int64 & Int64 & Int64 & Int64\\\\\n",
       "\t\\hline\n",
       "\t1 & 5 & 5 & 1 & 5 \\\\\n",
       "\t2 & 10 & 10 & 2 & 10 \\\\\n",
       "\t3 & 15 & 15 & 3 & 15 \\\\\n",
       "\t4 & 10 & 15 & 5 & 15 \\\\\n",
       "\t5 & 20 & 20 & 4 & 20 \\\\\n",
       "\t6 & 15 & 15 & 3 & 25 \\\\\n",
       "\t7 & 10 & 15 & 5 & 25 \\\\\n",
       "\\end{tabular}\n"
      ],
      "text/plain": [
       "\u001b[1m7×4 DataFrame\u001b[0m\n",
       "\u001b[1m Row \u001b[0m│\u001b[1m X     \u001b[0m\u001b[1m Y     \u001b[0m\u001b[1m Z     \u001b[0m\u001b[1m A     \u001b[0m\n",
       "\u001b[1m     \u001b[0m│\u001b[90m Int64 \u001b[0m\u001b[90m Int64 \u001b[0m\u001b[90m Int64 \u001b[0m\u001b[90m Int64 \u001b[0m\n",
       "─────┼────────────────────────────\n",
       "   1 │     5      5      1      5\n",
       "   2 │    10     10      2     10\n",
       "   3 │    15     15      3     15\n",
       "   4 │    10     15      5     15\n",
       "   5 │    20     20      4     20\n",
       "   6 │    15     15      3     25\n",
       "   7 │    10     15      5     25"
      ]
     },
     "execution_count": 18,
     "metadata": {},
     "output_type": "execute_result"
    }
   ],
   "source": [
    "innerjoin(df, df2, on = :Y)"
   ]
  },
  {
   "cell_type": "code",
   "execution_count": 20,
   "metadata": {},
   "outputs": [
    {
     "data": {
      "text/html": [
       "<div class=\"data-frame\"><p>5 rows × 3 columns</p><table class=\"data-frame\"><thead><tr><th></th><th>X</th><th>Y</th><th>Z</th></tr><tr><th></th><th title=\"Int64\">Int64</th><th title=\"Int64\">Int64</th><th title=\"Int64\">Int64</th></tr></thead><tbody><tr><th>1</th><td>5</td><td>5</td><td>1</td></tr><tr><th>2</th><td>10</td><td>10</td><td>2</td></tr><tr><th>3</th><td>15</td><td>15</td><td>3</td></tr><tr><th>4</th><td>20</td><td>20</td><td>4</td></tr><tr><th>5</th><td>10</td><td>15</td><td>5</td></tr></tbody></table></div>"
      ],
      "text/latex": [
       "\\begin{tabular}{r|ccc}\n",
       "\t& X & Y & Z\\\\\n",
       "\t\\hline\n",
       "\t& Int64 & Int64 & Int64\\\\\n",
       "\t\\hline\n",
       "\t1 & 5 & 5 & 1 \\\\\n",
       "\t2 & 10 & 10 & 2 \\\\\n",
       "\t3 & 15 & 15 & 3 \\\\\n",
       "\t4 & 20 & 20 & 4 \\\\\n",
       "\t5 & 10 & 15 & 5 \\\\\n",
       "\\end{tabular}\n"
      ],
      "text/plain": [
       "\u001b[1m5×3 DataFrame\u001b[0m\n",
       "\u001b[1m Row \u001b[0m│\u001b[1m X     \u001b[0m\u001b[1m Y     \u001b[0m\u001b[1m Z     \u001b[0m\n",
       "\u001b[1m     \u001b[0m│\u001b[90m Int64 \u001b[0m\u001b[90m Int64 \u001b[0m\u001b[90m Int64 \u001b[0m\n",
       "─────┼─────────────────────\n",
       "   1 │     5      5      1\n",
       "   2 │    10     10      2\n",
       "   3 │    15     15      3\n",
       "   4 │    20     20      4\n",
       "   5 │    10     15      5"
      ]
     },
     "execution_count": 20,
     "metadata": {},
     "output_type": "execute_result"
    }
   ],
   "source": [
    "df"
   ]
  },
  {
   "cell_type": "code",
   "execution_count": 21,
   "metadata": {},
   "outputs": [
    {
     "data": {
      "text/html": [
       "<div class=\"data-frame\"><p>5 rows × 3 columns</p><table class=\"data-frame\"><thead><tr><th></th><th>X</th><th>Y</th><th>Z</th></tr><tr><th></th><th title=\"Int64\">Int64</th><th title=\"Int64\">Int64</th><th title=\"Int64\">Int64</th></tr></thead><tbody><tr><th>1</th><td>5</td><td>5</td><td>1</td></tr><tr><th>2</th><td>10</td><td>10</td><td>2</td></tr><tr><th>3</th><td>15</td><td>15</td><td>3</td></tr><tr><th>4</th><td>20</td><td>20</td><td>4</td></tr><tr><th>5</th><td>10</td><td>15</td><td>5</td></tr></tbody></table></div>"
      ],
      "text/latex": [
       "\\begin{tabular}{r|ccc}\n",
       "\t& X & Y & Z\\\\\n",
       "\t\\hline\n",
       "\t& Int64 & Int64 & Int64\\\\\n",
       "\t\\hline\n",
       "\t1 & 5 & 5 & 1 \\\\\n",
       "\t2 & 10 & 10 & 2 \\\\\n",
       "\t3 & 15 & 15 & 3 \\\\\n",
       "\t4 & 20 & 20 & 4 \\\\\n",
       "\t5 & 10 & 15 & 5 \\\\\n",
       "\\end{tabular}\n"
      ],
      "text/plain": [
       "\u001b[1m5×3 DataFrame\u001b[0m\n",
       "\u001b[1m Row \u001b[0m│\u001b[1m X     \u001b[0m\u001b[1m Y     \u001b[0m\u001b[1m Z     \u001b[0m\n",
       "\u001b[1m     \u001b[0m│\u001b[90m Int64 \u001b[0m\u001b[90m Int64 \u001b[0m\u001b[90m Int64 \u001b[0m\n",
       "─────┼─────────────────────\n",
       "   1 │     5      5      1\n",
       "   2 │    10     10      2\n",
       "   3 │    15     15      3\n",
       "   4 │    20     20      4\n",
       "   5 │    10     15      5"
      ]
     },
     "execution_count": 21,
     "metadata": {},
     "output_type": "execute_result"
    }
   ],
   "source": [
    "df"
   ]
  },
  {
   "cell_type": "code",
   "execution_count": 22,
   "metadata": {},
   "outputs": [
    {
     "data": {
      "text/html": [
       "<div class=\"data-frame\"><p>5 rows × 3 columns</p><table class=\"data-frame\"><thead><tr><th></th><th>X</th><th>Y</th><th>Z</th></tr><tr><th></th><th title=\"Int64\">Int64</th><th title=\"Int64\">Int64</th><th title=\"Int64\">Int64</th></tr></thead><tbody><tr><th>1</th><td>5</td><td>5</td><td>1</td></tr><tr><th>2</th><td>10</td><td>10</td><td>2</td></tr><tr><th>3</th><td>10</td><td>15</td><td>5</td></tr><tr><th>4</th><td>15</td><td>15</td><td>3</td></tr><tr><th>5</th><td>20</td><td>20</td><td>4</td></tr></tbody></table></div>"
      ],
      "text/latex": [
       "\\begin{tabular}{r|ccc}\n",
       "\t& X & Y & Z\\\\\n",
       "\t\\hline\n",
       "\t& Int64 & Int64 & Int64\\\\\n",
       "\t\\hline\n",
       "\t1 & 5 & 5 & 1 \\\\\n",
       "\t2 & 10 & 10 & 2 \\\\\n",
       "\t3 & 10 & 15 & 5 \\\\\n",
       "\t4 & 15 & 15 & 3 \\\\\n",
       "\t5 & 20 & 20 & 4 \\\\\n",
       "\\end{tabular}\n"
      ],
      "text/plain": [
       "\u001b[1m5×3 DataFrame\u001b[0m\n",
       "\u001b[1m Row \u001b[0m│\u001b[1m X     \u001b[0m\u001b[1m Y     \u001b[0m\u001b[1m Z     \u001b[0m\n",
       "\u001b[1m     \u001b[0m│\u001b[90m Int64 \u001b[0m\u001b[90m Int64 \u001b[0m\u001b[90m Int64 \u001b[0m\n",
       "─────┼─────────────────────\n",
       "   1 │     5      5      1\n",
       "   2 │    10     10      2\n",
       "   3 │    10     15      5\n",
       "   4 │    15     15      3\n",
       "   5 │    20     20      4"
      ]
     },
     "execution_count": 22,
     "metadata": {},
     "output_type": "execute_result"
    }
   ],
   "source": [
    "sort!(df)"
   ]
  },
  {
   "cell_type": "code",
   "execution_count": 93,
   "metadata": {},
   "outputs": [
    {
     "ename": "LoadError",
     "evalue": "ArgumentError: `DataFrame` constructor with passed eltypes is not supported. Pass explicitly created columns to a `DataFrame` constructor instead.",
     "output_type": "error",
     "traceback": [
      "ArgumentError: `DataFrame` constructor with passed eltypes is not supported. Pass explicitly created columns to a `DataFrame` constructor instead.",
      "",
      "Stacktrace:",
      " [1] DataFrame(column_eltypes::Vector{DataType}, cnames::Vector{Symbol}, nrows::Int64; makeunique::Bool)",
      "   @ DataFrames ~/.julia/packages/DataFrames/JZ7x5/src/dataframe/dataframe.jl:392",
      " [2] DataFrame(column_eltypes::Vector{DataType}, cnames::Vector{Symbol}, nrows::Int64)",
      "   @ DataFrames ~/.julia/packages/DataFrames/JZ7x5/src/dataframe/dataframe.jl:392",
      " [3] top-level scope",
      "   @ In[93]:1",
      " [4] eval",
      "   @ ./boot.jl:373 [inlined]",
      " [5] include_string(mapexpr::typeof(REPL.softscope), mod::Module, code::String, filename::String)",
      "   @ Base ./loading.jl:1196"
     ]
    }
   ],
   "source": [
    "DataFrame([Float64, Float64, Int64, Int64], [Symbol(\"x$i\") for i in 1:4], 3)"
   ]
  },
  {
   "cell_type": "code",
   "execution_count": 23,
   "metadata": {},
   "outputs": [
    {
     "data": {
      "text/html": [
       "<div class=\"data-frame\"><p>3 rows × 2 columns</p><table class=\"data-frame\"><thead><tr><th></th><th>A</th><th>B</th></tr><tr><th></th><th title=\"Union{Missing, Int64}\">Int64?</th><th title=\"Int64\">Int64</th></tr></thead><tbody><tr><th>1</th><td>5</td><td>5</td></tr><tr><th>2</th><td><em>missing</em></td><td>10</td></tr><tr><th>3</th><td>6</td><td>2</td></tr></tbody></table></div>"
      ],
      "text/latex": [
       "\\begin{tabular}{r|cc}\n",
       "\t& A & B\\\\\n",
       "\t\\hline\n",
       "\t& Int64? & Int64\\\\\n",
       "\t\\hline\n",
       "\t1 & 5 & 5 \\\\\n",
       "\t2 & \\emph{missing} & 10 \\\\\n",
       "\t3 & 6 & 2 \\\\\n",
       "\\end{tabular}\n"
      ],
      "text/plain": [
       "\u001b[1m3×2 DataFrame\u001b[0m\n",
       "\u001b[1m Row \u001b[0m│\u001b[1m A       \u001b[0m\u001b[1m B     \u001b[0m\n",
       "\u001b[1m     \u001b[0m│\u001b[90m Int64?  \u001b[0m\u001b[90m Int64 \u001b[0m\n",
       "─────┼────────────────\n",
       "   1 │       5      5\n",
       "   2 │\u001b[90m missing \u001b[0m    10\n",
       "   3 │       6      2"
      ]
     },
     "execution_count": 23,
     "metadata": {},
     "output_type": "execute_result"
    }
   ],
   "source": [
    "df = DataFrame(:A => [5, missing, 6], :B => [5, 10, 2])"
   ]
  },
  {
   "cell_type": "code",
   "execution_count": 24,
   "metadata": {},
   "outputs": [
    {
     "data": {
      "text/html": [
       "<div class=\"data-frame\"><p>2 rows × 2 columns</p><table class=\"data-frame\"><thead><tr><th></th><th>A</th><th>B</th></tr><tr><th></th><th title=\"Int64\">Int64</th><th title=\"Int64\">Int64</th></tr></thead><tbody><tr><th>1</th><td>5</td><td>5</td></tr><tr><th>2</th><td>6</td><td>2</td></tr></tbody></table></div>"
      ],
      "text/latex": [
       "\\begin{tabular}{r|cc}\n",
       "\t& A & B\\\\\n",
       "\t\\hline\n",
       "\t& Int64 & Int64\\\\\n",
       "\t\\hline\n",
       "\t1 & 5 & 5 \\\\\n",
       "\t2 & 6 & 2 \\\\\n",
       "\\end{tabular}\n"
      ],
      "text/plain": [
       "\u001b[1m2×2 DataFrame\u001b[0m\n",
       "\u001b[1m Row \u001b[0m│\u001b[1m A     \u001b[0m\u001b[1m B     \u001b[0m\n",
       "\u001b[1m     \u001b[0m│\u001b[90m Int64 \u001b[0m\u001b[90m Int64 \u001b[0m\n",
       "─────┼──────────────\n",
       "   1 │     5      5\n",
       "   2 │     6      2"
      ]
     },
     "execution_count": 24,
     "metadata": {},
     "output_type": "execute_result"
    }
   ],
   "source": [
    "dropmissing(df)"
   ]
  },
  {
   "cell_type": "code",
   "execution_count": 25,
   "metadata": {},
   "outputs": [
    {
     "data": {
      "text/html": [
       "<div class=\"data-frame\"><p>3 rows × 2 columns</p><table class=\"data-frame\"><thead><tr><th></th><th>A</th><th>B</th></tr><tr><th></th><th title=\"Union{Missing, Int64}\">Int64?</th><th title=\"Int64\">Int64</th></tr></thead><tbody><tr><th>1</th><td>5</td><td>5</td></tr><tr><th>2</th><td><em>missing</em></td><td>10</td></tr><tr><th>3</th><td>6</td><td>2</td></tr></tbody></table></div>"
      ],
      "text/latex": [
       "\\begin{tabular}{r|cc}\n",
       "\t& A & B\\\\\n",
       "\t\\hline\n",
       "\t& Int64? & Int64\\\\\n",
       "\t\\hline\n",
       "\t1 & 5 & 5 \\\\\n",
       "\t2 & \\emph{missing} & 10 \\\\\n",
       "\t3 & 6 & 2 \\\\\n",
       "\\end{tabular}\n"
      ],
      "text/plain": [
       "\u001b[1m3×2 DataFrame\u001b[0m\n",
       "\u001b[1m Row \u001b[0m│\u001b[1m A       \u001b[0m\u001b[1m B     \u001b[0m\n",
       "\u001b[1m     \u001b[0m│\u001b[90m Int64?  \u001b[0m\u001b[90m Int64 \u001b[0m\n",
       "─────┼────────────────\n",
       "   1 │       5      5\n",
       "   2 │\u001b[90m missing \u001b[0m    10\n",
       "   3 │       6      2"
      ]
     },
     "execution_count": 25,
     "metadata": {},
     "output_type": "execute_result"
    }
   ],
   "source": [
    "df"
   ]
  },
  {
   "cell_type": "code",
   "execution_count": 26,
   "metadata": {},
   "outputs": [
    {
     "data": {
      "text/html": [
       "<div class=\"data-frame\"><p>2 rows × 2 columns</p><table class=\"data-frame\"><thead><tr><th></th><th>A</th><th>B</th></tr><tr><th></th><th title=\"Int64\">Int64</th><th title=\"Int64\">Int64</th></tr></thead><tbody><tr><th>1</th><td>5</td><td>5</td></tr><tr><th>2</th><td>6</td><td>2</td></tr></tbody></table></div>"
      ],
      "text/latex": [
       "\\begin{tabular}{r|cc}\n",
       "\t& A & B\\\\\n",
       "\t\\hline\n",
       "\t& Int64 & Int64\\\\\n",
       "\t\\hline\n",
       "\t1 & 5 & 5 \\\\\n",
       "\t2 & 6 & 2 \\\\\n",
       "\\end{tabular}\n"
      ],
      "text/plain": [
       "\u001b[1m2×2 DataFrame\u001b[0m\n",
       "\u001b[1m Row \u001b[0m│\u001b[1m A     \u001b[0m\u001b[1m B     \u001b[0m\n",
       "\u001b[1m     \u001b[0m│\u001b[90m Int64 \u001b[0m\u001b[90m Int64 \u001b[0m\n",
       "─────┼──────────────\n",
       "   1 │     5      5\n",
       "   2 │     6      2"
      ]
     },
     "execution_count": 26,
     "metadata": {},
     "output_type": "execute_result"
    }
   ],
   "source": [
    "dropmissing(df, :A)"
   ]
  },
  {
   "cell_type": "markdown",
   "metadata": {},
   "source": []
  },
  {
   "cell_type": "code",
   "execution_count": 40,
   "metadata": {},
   "outputs": [
    {
     "data": {
      "text/html": [
       "<div class=\"data-frame\"><p>6 rows × 2 columns</p><table class=\"data-frame\"><thead><tr><th></th><th>x</th><th>y</th></tr><tr><th></th><th title=\"Union{Missing, Nothing, Float64}\">Union…?</th><th title=\"Char\">Char</th></tr></thead><tbody><tr><th>1</th><td>1.0</td><td>a</td></tr><tr><th>2</th><td><em>missing</em></td><td>b</td></tr><tr><th>3</th><td>3.0</td><td>c</td></tr><tr><th>4</th><td></td><td>d</td></tr><tr><th>5</th><td>5.0</td><td>e</td></tr><tr><th>6</th><td>NaN</td><td>f</td></tr></tbody></table></div>"
      ],
      "text/latex": [
       "\\begin{tabular}{r|cc}\n",
       "\t& x & y\\\\\n",
       "\t\\hline\n",
       "\t& Union…? & Char\\\\\n",
       "\t\\hline\n",
       "\t1 & 1.0 & a \\\\\n",
       "\t2 & \\emph{missing} & b \\\\\n",
       "\t3 & 3.0 & c \\\\\n",
       "\t4 &  & d \\\\\n",
       "\t5 & 5.0 & e \\\\\n",
       "\t6 & NaN & f \\\\\n",
       "\\end{tabular}\n"
      ],
      "text/plain": [
       "\u001b[1m6×2 DataFrame\u001b[0m\n",
       "\u001b[1m Row \u001b[0m│\u001b[1m x       \u001b[0m\u001b[1m y    \u001b[0m\n",
       "\u001b[1m     \u001b[0m│\u001b[90m Union…? \u001b[0m\u001b[90m Char \u001b[0m\n",
       "─────┼───────────────\n",
       "   1 │ 1.0      a\n",
       "   2 │\u001b[90m missing \u001b[0m b\n",
       "   3 │ 3.0      c\n",
       "   4 │\u001b[90m         \u001b[0m d\n",
       "   5 │ 5.0      e\n",
       "   6 │ NaN      f"
      ]
     },
     "execution_count": 40,
     "metadata": {},
     "output_type": "execute_result"
    }
   ],
   "source": [
    "df3  = DataFrame(x=[1,missing,3,nothing,5,NaN], y='a':'f')\n"
   ]
  },
  {
   "cell_type": "code",
   "execution_count": 43,
   "metadata": {},
   "outputs": [
    {
     "data": {
      "text/html": [
       "<div class=\"data-frame\"><p>3 rows × 2 columns</p><table class=\"data-frame\"><thead><tr><th></th><th>x</th><th>y</th></tr><tr><th></th><th title=\"Union{Missing, Nothing, Float64}\">Union…?</th><th title=\"Char\">Char</th></tr></thead><tbody><tr><th>1</th><td>1.0</td><td>a</td></tr><tr><th>2</th><td>3.0</td><td>c</td></tr><tr><th>3</th><td>5.0</td><td>e</td></tr></tbody></table></div>"
      ],
      "text/latex": [
       "\\begin{tabular}{r|cc}\n",
       "\t& x & y\\\\\n",
       "\t\\hline\n",
       "\t& Union…? & Char\\\\\n",
       "\t\\hline\n",
       "\t1 & 1.0 & a \\\\\n",
       "\t2 & 3.0 & c \\\\\n",
       "\t3 & 5.0 & e \\\\\n",
       "\\end{tabular}\n"
      ],
      "text/plain": [
       "\u001b[1m3×2 DataFrame\u001b[0m\n",
       "\u001b[1m Row \u001b[0m│\u001b[1m x       \u001b[0m\u001b[1m y    \u001b[0m\n",
       "\u001b[1m     \u001b[0m│\u001b[90m Union…? \u001b[0m\u001b[90m Char \u001b[0m\n",
       "─────┼───────────────\n",
       "   1 │ 1.0      a\n",
       "   2 │ 3.0      c\n",
       "   3 │ 5.0      e"
      ]
     },
     "execution_count": 43,
     "metadata": {},
     "output_type": "execute_result"
    }
   ],
   "source": [
    "filter( [1] => x -> !any(f -> f(x), (ismissing, isnothing, isnan)), df3)"
   ]
  },
  {
   "cell_type": "code",
   "execution_count": 79,
   "metadata": {},
   "outputs": [
    {
     "data": {
      "text/html": [
       "<div class=\"data-frame\"><p>3 rows × 2 columns</p><table class=\"data-frame\"><thead><tr><th></th><th>x</th><th>y</th></tr><tr><th></th><th title=\"Union{Missing, Nothing, Float64}\">Union…?</th><th title=\"Char\">Char</th></tr></thead><tbody><tr><th>1</th><td>1.0</td><td>a</td></tr><tr><th>2</th><td>3.0</td><td>c</td></tr><tr><th>3</th><td>5.0</td><td>e</td></tr></tbody></table></div>"
      ],
      "text/latex": [
       "\\begin{tabular}{r|cc}\n",
       "\t& x & y\\\\\n",
       "\t\\hline\n",
       "\t& Union…? & Char\\\\\n",
       "\t\\hline\n",
       "\t1 & 1.0 & a \\\\\n",
       "\t2 & 3.0 & c \\\\\n",
       "\t3 & 5.0 & e \\\\\n",
       "\\end{tabular}\n"
      ],
      "text/plain": [
       "\u001b[1m3×2 DataFrame\u001b[0m\n",
       "\u001b[1m Row \u001b[0m│\u001b[1m x       \u001b[0m\u001b[1m y    \u001b[0m\n",
       "\u001b[1m     \u001b[0m│\u001b[90m Union…? \u001b[0m\u001b[90m Char \u001b[0m\n",
       "─────┼───────────────\n",
       "   1 │ 1.0      a\n",
       "   2 │ 3.0      c\n",
       "   3 │ 5.0      e"
      ]
     },
     "execution_count": 79,
     "metadata": {},
     "output_type": "execute_result"
    }
   ],
   "source": [
    "filter(:x => x -> !any(f -> f(x), (ismissing, isnothing, isnan)), df3)"
   ]
  },
  {
   "cell_type": "code",
   "execution_count": 60,
   "metadata": {},
   "outputs": [
    {
     "data": {
      "text/html": [
       "<div class=\"data-frame\"><p>3 rows × 1 columns</p><table class=\"data-frame\"><thead><tr><th></th><th>x</th></tr><tr><th></th><th title=\"Union{Missing, Float64}\">Float64?</th></tr></thead><tbody><tr><th>1</th><td>3432.34</td></tr><tr><th>2</th><td>432.2</td></tr><tr><th>3</th><td>43.0</td></tr></tbody></table></div>"
      ],
      "text/latex": [
       "\\begin{tabular}{r|c}\n",
       "\t& x\\\\\n",
       "\t\\hline\n",
       "\t& Float64?\\\\\n",
       "\t\\hline\n",
       "\t1 & 3432.34 \\\\\n",
       "\t2 & 432.2 \\\\\n",
       "\t3 & 43.0 \\\\\n",
       "\\end{tabular}\n"
      ],
      "text/plain": [
       "\u001b[1m3×1 DataFrame\u001b[0m\n",
       "\u001b[1m Row \u001b[0m│\u001b[1m x        \u001b[0m\n",
       "\u001b[1m     \u001b[0m│\u001b[90m Float64? \u001b[0m\n",
       "─────┼──────────\n",
       "   1 │  3432.34\n",
       "   2 │   432.2\n",
       "   3 │    43.0"
      ]
     },
     "execution_count": 60,
     "metadata": {},
     "output_type": "execute_result"
    }
   ],
   "source": [
    "\n",
    "df = DataFrame(x=[missing,NaN,3432.34,432.2,NaN, 43.])\n",
    "# select numerical type columns from a DataFrame df3\n",
    "filter(:x => x -> !any(f -> f(x), (ismissing, isnothing, isnan)), df)"
   ]
  },
  {
   "cell_type": "code",
   "execution_count": 64,
   "metadata": {},
   "outputs": [
    {
     "data": {
      "text/html": [
       "<div class=\"data-frame\"><p>6 rows × 3 columns</p><table class=\"data-frame\"><thead><tr><th></th><th>A</th><th>B</th><th>C</th></tr><tr><th></th><th title=\"Int64\">Int64</th><th title=\"Int64\">Int64</th><th title=\"String\">String</th></tr></thead><tbody><tr><th>1</th><td>1</td><td>1</td><td>a</td></tr><tr><th>2</th><td>3</td><td>3</td><td>b</td></tr><tr><th>3</th><td>4</td><td>4</td><td>c</td></tr><tr><th>4</th><td>5</td><td>5</td><td>d</td></tr><tr><th>5</th><td>6</td><td>6</td><td>e</td></tr><tr><th>6</th><td>432</td><td>3</td><td>f</td></tr></tbody></table></div>"
      ],
      "text/latex": [
       "\\begin{tabular}{r|ccc}\n",
       "\t& A & B & C\\\\\n",
       "\t\\hline\n",
       "\t& Int64 & Int64 & String\\\\\n",
       "\t\\hline\n",
       "\t1 & 1 & 1 & a \\\\\n",
       "\t2 & 3 & 3 & b \\\\\n",
       "\t3 & 4 & 4 & c \\\\\n",
       "\t4 & 5 & 5 & d \\\\\n",
       "\t5 & 6 & 6 & e \\\\\n",
       "\t6 & 432 & 3 & f \\\\\n",
       "\\end{tabular}\n"
      ],
      "text/plain": [
       "\u001b[1m6×3 DataFrame\u001b[0m\n",
       "\u001b[1m Row \u001b[0m│\u001b[1m A     \u001b[0m\u001b[1m B     \u001b[0m\u001b[1m C      \u001b[0m\n",
       "\u001b[1m     \u001b[0m│\u001b[90m Int64 \u001b[0m\u001b[90m Int64 \u001b[0m\u001b[90m String \u001b[0m\n",
       "─────┼──────────────────────\n",
       "   1 │     1      1  a\n",
       "   2 │     3      3  b\n",
       "   3 │     4      4  c\n",
       "   4 │     5      5  d\n",
       "   5 │     6      6  e\n",
       "   6 │   432      3  f"
      ]
     },
     "execution_count": 64,
     "metadata": {},
     "output_type": "execute_result"
    }
   ],
   "source": [
    "df = DataFrame(A=[1,3,4,5,6,432], B=[1,3,4,5,6,3], C=[\"a\",\"b\",\"c\",\"d\",\"e\",\"f\"])"
   ]
  },
  {
   "cell_type": "code",
   "execution_count": 80,
   "metadata": {},
   "outputs": [
    {
     "data": {
      "text/html": [
       "<div class=\"data-frame\"><p>6 rows × 2 columns</p><table class=\"data-frame\"><thead><tr><th></th><th>A</th><th>B</th></tr><tr><th></th><th title=\"Int64\">Int64</th><th title=\"Int64\">Int64</th></tr></thead><tbody><tr><th>1</th><td>1</td><td>1</td></tr><tr><th>2</th><td>3</td><td>3</td></tr><tr><th>3</th><td>4</td><td>4</td></tr><tr><th>4</th><td>5</td><td>5</td></tr><tr><th>5</th><td>6</td><td>6</td></tr><tr><th>6</th><td>432</td><td>3</td></tr></tbody></table></div>"
      ],
      "text/latex": [
       "\\begin{tabular}{r|cc}\n",
       "\t& A & B\\\\\n",
       "\t\\hline\n",
       "\t& Int64 & Int64\\\\\n",
       "\t\\hline\n",
       "\t1 & 1 & 1 \\\\\n",
       "\t2 & 3 & 3 \\\\\n",
       "\t3 & 4 & 4 \\\\\n",
       "\t4 & 5 & 5 \\\\\n",
       "\t5 & 6 & 6 \\\\\n",
       "\t6 & 432 & 3 \\\\\n",
       "\\end{tabular}\n"
      ],
      "text/plain": [
       "\u001b[1m6×2 DataFrame\u001b[0m\n",
       "\u001b[1m Row \u001b[0m│\u001b[1m A     \u001b[0m\u001b[1m B     \u001b[0m\n",
       "\u001b[1m     \u001b[0m│\u001b[90m Int64 \u001b[0m\u001b[90m Int64 \u001b[0m\n",
       "─────┼──────────────\n",
       "   1 │     1      1\n",
       "   2 │     3      3\n",
       "   3 │     4      4\n",
       "   4 │     5      5\n",
       "   5 │     6      6\n",
       "   6 │   432      3"
      ]
     },
     "execution_count": 80,
     "metadata": {},
     "output_type": "execute_result"
    }
   ],
   "source": [
    "using Missings\n",
    "# drop columns with not number values\n",
    "df = df[:, map(col -> eltype(col) <: Number, eachcol(df))]\n",
    "# note use of subtype operator <:\n",
    "\n",
    "\n",
    "\n"
   ]
  },
  {
   "cell_type": "code",
   "execution_count": 23,
   "metadata": {},
   "outputs": [
    {
     "data": {
      "text/html": [
       "<div class=\"data-frame\"><p>82 rows × 7 columns</p><table class=\"data-frame\"><thead><tr><th></th><th>variable</th><th>mean</th><th>min</th><th>median</th><th>max</th><th>nmissing</th><th>eltype</th></tr><tr><th></th><th title=\"Symbol\">Symbol</th><th title=\"Union{Nothing, Float64}\">Union…</th><th title=\"Any\">Any</th><th title=\"Union{Nothing, Float64}\">Union…</th><th title=\"Any\">Any</th><th title=\"Int64\">Int64</th><th title=\"Type\">Type</th></tr></thead><tbody><tr><th>1</th><td>Column1</td><td>49.5</td><td>0</td><td>49.5</td><td>99</td><td>0</td><td>Int64</td></tr><tr><th>2</th><td>Id</td><td>50.5</td><td>1</td><td>50.5</td><td>100</td><td>0</td><td>Int64</td></tr><tr><th>3</th><td>MSSubClass</td><td>52.0</td><td>20</td><td>45.0</td><td>190</td><td>0</td><td>Int64</td></tr><tr><th>4</th><td>MSZoning</td><td></td><td>C (all)</td><td></td><td>RM</td><td>0</td><td>String7</td></tr><tr><th>5</th><td>LotFrontage</td><td>71.407</td><td>21.0</td><td>70.0</td><td>122.0</td><td>14</td><td>Union{Missing, Float64}</td></tr><tr><th>6</th><td>LotArea</td><td>10115.9</td><td>1596</td><td>9595.5</td><td>50271</td><td>0</td><td>Int64</td></tr><tr><th>7</th><td>Street</td><td></td><td>Grvl</td><td></td><td>Pave</td><td>0</td><td>String7</td></tr><tr><th>8</th><td>Alley</td><td></td><td>Grvl</td><td></td><td>Pave</td><td>94</td><td>Union{Missing, String7}</td></tr><tr><th>9</th><td>LotShape</td><td></td><td>IR1</td><td></td><td>Reg</td><td>0</td><td>String3</td></tr><tr><th>10</th><td>LandContour</td><td></td><td>Bnk</td><td></td><td>Lvl</td><td>0</td><td>String3</td></tr><tr><th>11</th><td>Utilities</td><td></td><td>AllPub</td><td></td><td>AllPub</td><td>0</td><td>String7</td></tr><tr><th>12</th><td>LotConfig</td><td></td><td>Corner</td><td></td><td>Inside</td><td>0</td><td>String7</td></tr><tr><th>13</th><td>LandSlope</td><td></td><td>Gtl</td><td></td><td>Mod</td><td>0</td><td>String3</td></tr><tr><th>14</th><td>Neighborhood</td><td></td><td>BrkSide</td><td></td><td>Veenker</td><td>0</td><td>String7</td></tr><tr><th>15</th><td>Condition1</td><td></td><td>Artery</td><td></td><td>RRNn</td><td>0</td><td>String7</td></tr><tr><th>16</th><td>Condition2</td><td></td><td>Artery</td><td></td><td>RRNn</td><td>0</td><td>String7</td></tr><tr><th>17</th><td>BldgType</td><td></td><td>1Fam</td><td></td><td>TwnhsE</td><td>0</td><td>String7</td></tr><tr><th>18</th><td>HouseStyle</td><td></td><td>1.5Fin</td><td></td><td>SLvl</td><td>0</td><td>String7</td></tr><tr><th>19</th><td>OverallQual</td><td>5.98</td><td>3</td><td>6.0</td><td>10</td><td>0</td><td>Int64</td></tr><tr><th>20</th><td>OverallCond</td><td>5.5</td><td>2</td><td>5.0</td><td>8</td><td>0</td><td>Int64</td></tr><tr><th>21</th><td>YearBuilt</td><td>1971.41</td><td>1910</td><td>1970.0</td><td>2009</td><td>0</td><td>Int64</td></tr><tr><th>22</th><td>YearRemodAdd</td><td>1983.92</td><td>1950</td><td>1994.0</td><td>2009</td><td>0</td><td>Int64</td></tr><tr><th>23</th><td>RoofStyle</td><td></td><td>Gable</td><td></td><td>Hip</td><td>0</td><td>String7</td></tr><tr><th>24</th><td>RoofMatl</td><td></td><td>CompShg</td><td></td><td>WdShngl</td><td>0</td><td>String7</td></tr><tr><th>25</th><td>Exterior1st</td><td></td><td>AsbShng</td><td></td><td>WdShing</td><td>0</td><td>String7</td></tr><tr><th>26</th><td>Exterior2nd</td><td></td><td>AsbShng</td><td></td><td>Wd Shng</td><td>0</td><td>String7</td></tr><tr><th>27</th><td>MasVnrType</td><td></td><td>BrkCmn</td><td></td><td>Stone</td><td>0</td><td>String7</td></tr><tr><th>28</th><td>MasVnrArea</td><td>121.64</td><td>0.0</td><td>0.0</td><td>1115.0</td><td>0</td><td>Float64</td></tr><tr><th>29</th><td>ExterQual</td><td></td><td>Ex</td><td></td><td>TA</td><td>0</td><td>String3</td></tr><tr><th>30</th><td>ExterCond</td><td></td><td>Fa</td><td></td><td>TA</td><td>0</td><td>String3</td></tr><tr><th>&vellip;</th><td>&vellip;</td><td>&vellip;</td><td>&vellip;</td><td>&vellip;</td><td>&vellip;</td><td>&vellip;</td><td>&vellip;</td></tr></tbody></table></div>"
      ],
      "text/latex": [
       "\\begin{tabular}{r|ccccccc}\n",
       "\t& variable & mean & min & median & max & nmissing & eltype\\\\\n",
       "\t\\hline\n",
       "\t& Symbol & Union… & Any & Union… & Any & Int64 & Type\\\\\n",
       "\t\\hline\n",
       "\t1 & Column1 & 49.5 & 0 & 49.5 & 99 & 0 & Int64 \\\\\n",
       "\t2 & Id & 50.5 & 1 & 50.5 & 100 & 0 & Int64 \\\\\n",
       "\t3 & MSSubClass & 52.0 & 20 & 45.0 & 190 & 0 & Int64 \\\\\n",
       "\t4 & MSZoning &  & C (all) &  & RM & 0 & String7 \\\\\n",
       "\t5 & LotFrontage & 71.407 & 21.0 & 70.0 & 122.0 & 14 & Union\\{Missing, Float64\\} \\\\\n",
       "\t6 & LotArea & 10115.9 & 1596 & 9595.5 & 50271 & 0 & Int64 \\\\\n",
       "\t7 & Street &  & Grvl &  & Pave & 0 & String7 \\\\\n",
       "\t8 & Alley &  & Grvl &  & Pave & 94 & Union\\{Missing, String7\\} \\\\\n",
       "\t9 & LotShape &  & IR1 &  & Reg & 0 & String3 \\\\\n",
       "\t10 & LandContour &  & Bnk &  & Lvl & 0 & String3 \\\\\n",
       "\t11 & Utilities &  & AllPub &  & AllPub & 0 & String7 \\\\\n",
       "\t12 & LotConfig &  & Corner &  & Inside & 0 & String7 \\\\\n",
       "\t13 & LandSlope &  & Gtl &  & Mod & 0 & String3 \\\\\n",
       "\t14 & Neighborhood &  & BrkSide &  & Veenker & 0 & String7 \\\\\n",
       "\t15 & Condition1 &  & Artery &  & RRNn & 0 & String7 \\\\\n",
       "\t16 & Condition2 &  & Artery &  & RRNn & 0 & String7 \\\\\n",
       "\t17 & BldgType &  & 1Fam &  & TwnhsE & 0 & String7 \\\\\n",
       "\t18 & HouseStyle &  & 1.5Fin &  & SLvl & 0 & String7 \\\\\n",
       "\t19 & OverallQual & 5.98 & 3 & 6.0 & 10 & 0 & Int64 \\\\\n",
       "\t20 & OverallCond & 5.5 & 2 & 5.0 & 8 & 0 & Int64 \\\\\n",
       "\t21 & YearBuilt & 1971.41 & 1910 & 1970.0 & 2009 & 0 & Int64 \\\\\n",
       "\t22 & YearRemodAdd & 1983.92 & 1950 & 1994.0 & 2009 & 0 & Int64 \\\\\n",
       "\t23 & RoofStyle &  & Gable &  & Hip & 0 & String7 \\\\\n",
       "\t24 & RoofMatl &  & CompShg &  & WdShngl & 0 & String7 \\\\\n",
       "\t25 & Exterior1st &  & AsbShng &  & WdShing & 0 & String7 \\\\\n",
       "\t26 & Exterior2nd &  & AsbShng &  & Wd Shng & 0 & String7 \\\\\n",
       "\t27 & MasVnrType &  & BrkCmn &  & Stone & 0 & String7 \\\\\n",
       "\t28 & MasVnrArea & 121.64 & 0.0 & 0.0 & 1115.0 & 0 & Float64 \\\\\n",
       "\t29 & ExterQual &  & Ex &  & TA & 0 & String3 \\\\\n",
       "\t30 & ExterCond &  & Fa &  & TA & 0 & String3 \\\\\n",
       "\t$\\dots$ & $\\dots$ & $\\dots$ & $\\dots$ & $\\dots$ & $\\dots$ & $\\dots$ & $\\dots$ \\\\\n",
       "\\end{tabular}\n"
      ],
      "text/plain": [
       "\u001b[1m82×7 DataFrame\u001b[0m\n",
       "\u001b[1m Row \u001b[0m│\u001b[1m variable      \u001b[0m\u001b[1m mean      \u001b[0m\u001b[1m min     \u001b[0m\u001b[1m median   \u001b[0m\u001b[1m max     \u001b[0m\u001b[1m nmissing \u001b[0m\u001b[1m eltype \u001b[0m ⋯\n",
       "\u001b[1m     \u001b[0m│\u001b[90m Symbol        \u001b[0m\u001b[90m Union…    \u001b[0m\u001b[90m Any     \u001b[0m\u001b[90m Union…   \u001b[0m\u001b[90m Any     \u001b[0m\u001b[90m Int64    \u001b[0m\u001b[90m Type   \u001b[0m ⋯\n",
       "─────┼──────────────────────────────────────────────────────────────────────────\n",
       "   1 │ Column1        49.5       0        49.5      99              0  Int64   ⋯\n",
       "   2 │ Id             50.5       1        50.5      100             0  Int64\n",
       "   3 │ MSSubClass     52.0       20       45.0      190             0  Int64\n",
       "   4 │ MSZoning      \u001b[90m           \u001b[0m C (all) \u001b[90m          \u001b[0m RM              0  String7\n",
       "   5 │ LotFrontage    71.407     21.0     70.0      122.0          14  Union{M ⋯\n",
       "   6 │ LotArea        10115.9    1596     9595.5    50271           0  Int64\n",
       "   7 │ Street        \u001b[90m           \u001b[0m Grvl    \u001b[90m          \u001b[0m Pave            0  String7\n",
       "   8 │ Alley         \u001b[90m           \u001b[0m Grvl    \u001b[90m          \u001b[0m Pave           94  Union{M\n",
       "   9 │ LotShape      \u001b[90m           \u001b[0m IR1     \u001b[90m          \u001b[0m Reg             0  String3 ⋯\n",
       "  10 │ LandContour   \u001b[90m           \u001b[0m Bnk     \u001b[90m          \u001b[0m Lvl             0  String3\n",
       "  11 │ Utilities     \u001b[90m           \u001b[0m AllPub  \u001b[90m          \u001b[0m AllPub          0  String7\n",
       "  ⋮  │       ⋮            ⋮         ⋮        ⋮         ⋮        ⋮              ⋱\n",
       "  73 │ PoolArea       0.0        0        0.0       0               0  Int64\n",
       "  74 │ PoolQC        \u001b[90m           \u001b[0m\u001b[90m         \u001b[0m\u001b[90m          \u001b[0m\u001b[90m         \u001b[0m      100  Missing ⋯\n",
       "  75 │ Fence         \u001b[90m           \u001b[0m GdPrv   \u001b[90m          \u001b[0m MnPrv          77  Union{M\n",
       "  76 │ MiscFeature   \u001b[90m           \u001b[0m Shed    \u001b[90m          \u001b[0m Shed           91  Union{M\n",
       "  77 │ MiscVal        46.3       0        0.0       700             0  Int64\n",
       "  78 │ MoSold         6.33       1        6.0       12              0  Int64   ⋯\n",
       "  79 │ YrSold         2007.9     2006     2008.0    2010            0  Int64\n",
       "  80 │ SaleType      \u001b[90m           \u001b[0m COD     \u001b[90m          \u001b[0m WD              0  String7\n",
       "  81 │ SaleCondition \u001b[90m           \u001b[0m Abnorml \u001b[90m          \u001b[0m Partial         0  String7\n",
       "  82 │ SalePrice      1.73821e5  40000    153750.0  438780          0  Int64   ⋯\n",
       "\u001b[36m                                                    1 column and 61 rows omitted\u001b[0m"
      ]
     },
     "execution_count": 23,
     "metadata": {},
     "output_type": "execute_result"
    }
   ],
   "source": [
    "\n",
    "using DataFrames; df = CSV.read(\"house100Data.csv\", DataFrame)\n",
    "describe(df)"
   ]
  }
 ],
 "metadata": {
  "@webio": {
   "lastCommId": null,
   "lastKernelId": null
  },
  "kernelspec": {
   "display_name": "Julia 1.7.1",
   "language": "julia",
   "name": "julia-1.7"
  },
  "language_info": {
   "file_extension": ".jl",
   "mimetype": "application/julia",
   "name": "julia",
   "version": "1.7.1"
  }
 },
 "nbformat": 4,
 "nbformat_minor": 2
}
