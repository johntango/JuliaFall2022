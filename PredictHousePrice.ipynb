{
 "cells": [
  {
   "cell_type": "markdown",
   "metadata": {},
   "source": [
    "### House Price Prediction Exercise - data_description.txt\n",
    "SalePrice — the property’s sale price in dollars. This is the target variable that you’re trying to predict.  \n",
    "MSSubClass — The building class  \n",
    "MSZoning — The general zoning classification \n",
    "MasVnrArea - Masonary Veneer Area in sq ft\n",
    "LotFrontage — Linear feet of street connected to property  \n",
    "LotArea — Lot size in square feet  \n",
    "Street — Type of road access  \n",
    "Alley — Type of alley access  \n",
    "LotShape — General shape of property  \n",
    "LandContour — Flatness of the property  \n",
    "Utilities — Type of utilities available  \n",
    "LotConfig — Lot configuration  "
   ]
  },
  {
   "cell_type": "code",
   "execution_count": null,
   "metadata": {},
   "outputs": [],
   "source": [
    "# House Sales Data, ETL, Build Predictive Model(linear regression), \n",
    "# Assess Model, Deploy Model. Training data  'house100Data.csv'\n",
    "# R^2 = 0.75  Price explained by the indep. variables\n",
    "import Pkg; Pkg.add(\"DataFrames\")\n",
    "Pkg.add(\"Missings\")\n",
    "Pkg.add(\"Plots\")\n",
    "Pkg.add(\"CSV\")\n",
    "using DataFrames\n",
    "using CSV\n",
    "using Missings\n",
    "using Plots"
   ]
  },
  {
   "cell_type": "markdown",
   "metadata": {},
   "source": [
    "$$Y = X\\beta + e $$"
   ]
  },
  {
   "cell_type": "code",
   "execution_count": null,
   "metadata": {},
   "outputs": [],
   "source": [
    "using DataFrames; \n",
    "data = CSV.read(\"house100Data.csv\", DataFrame)\n",
    "train = data[1:100,:]\n",
    "size(train)"
   ]
  },
  {
   "cell_type": "code",
   "execution_count": null,
   "metadata": {},
   "outputs": [],
   "source": [
    "# extract SalePrice column\n",
    "price = train[1:3, :SalePrice]\n",
    "\n",
    "\n"
   ]
  },
  {
   "cell_type": "code",
   "execution_count": null,
   "metadata": {},
   "outputs": [],
   "source": [
    "# plot on scatter plot\n",
    "using Plots\n",
    "# plot SalePrice vs id\n",
    "#plot([1:100], price)\n",
    "# scatter plot\n",
    "scatter(train[:,:LotArea], price)\n",
    "# bar plot\n",
    "#bar([1:100], price)\n"
   ]
  },
  {
   "cell_type": "code",
   "execution_count": null,
   "metadata": {},
   "outputs": [],
   "source": [
    "# drop columns with missing values\n",
    "# drop columns with missing values\n",
    "#select!(train, Not(:Alley))   # this drops the Alley column\n",
    "#shape of train\n",
    "size(train)"
   ]
  },
  {
   "cell_type": "code",
   "execution_count": null,
   "metadata": {},
   "outputs": [],
   "source": [
    "df2 = DataFrame(:A => [5, 10, 15, 20, 25], :Y => [5, 10, missing, 20, 15])"
   ]
  },
  {
   "cell_type": "code",
   "execution_count": null,
   "metadata": {},
   "outputs": [],
   "source": [
    "# count missing values in column \n",
    "function getListOfMissingColumns(df)\n",
    "    missingColumns = []\n",
    "    for i in 1:size(df)[2]\n",
    "        num = count(ismissing, df[:,i])\n",
    "        if num > 0\n",
    "            # print column name and number of missing values\n",
    "            println(names(df)[i], \" \", num)\n",
    "            push!(missingColumns, names(df)[i])\n",
    "        end\n",
    "    end\n",
    "    return missingColumns\n",
    "end\n",
    "getListOfMissingColumns(train)\n",
    "# drop columns with missing values\n",
    "\n",
    "\n"
   ]
  },
  {
   "cell_type": "code",
   "execution_count": null,
   "metadata": {},
   "outputs": [],
   "source": [
    "function dropColumnsWithMissingValues(df)\n",
    "    missingColumns = getListOfMissingColumns(df)\n",
    "    for i in 1:length(missingColumns)\n",
    "        select!(df, Not(Symbol(missingColumns[i])))\n",
    "    end\n",
    "    return df\n",
    "end\n",
    "train = dropColumnsWithMissingValues(train)\n",
    "size(train)"
   ]
  },
  {
   "cell_type": "code",
   "execution_count": null,
   "metadata": {},
   "outputs": [],
   "source": [
    "# get names of non numeric columns float and int\n",
    "\n",
    "function getNonNumericColumns(df)\n",
    "    nonNumericColumns = []\n",
    "    for i in 1:size(df)[2]\n",
    "        if !(eltype(df[:,i]) <: Number)\n",
    "            push!(nonNumericColumns, names(df)[i])\n",
    "        end\n",
    "    end\n",
    "    return nonNumericColumns\n",
    "end\n",
    "nonNumericCols = getNonNumericColumns(train)\n"
   ]
  },
  {
   "cell_type": "code",
   "execution_count": null,
   "metadata": {},
   "outputs": [],
   "source": [
    "# drop non numeric columns\n",
    "function dropNonNumericColumns(df)\n",
    "    nonNumericColumns = getNonNumericColumns(df)\n",
    "    for i in 1:length(nonNumericColumns)\n",
    "        select!(df, Not(Symbol(nonNumericColumns[i])))\n",
    "    end\n",
    "    return df\n",
    "end\n",
    "train = dropNonNumericColumns(train)\n",
    "size(train)\n"
   ]
  },
  {
   "cell_type": "code",
   "execution_count": null,
   "metadata": {},
   "outputs": [],
   "source": [
    "# get name of problem column as visbile in heatmap\n",
    "\n"
   ]
  },
  {
   "cell_type": "code",
   "execution_count": null,
   "metadata": {},
   "outputs": [],
   "source": [
    "# Build correlation matrix\n",
    "using Statistics\n",
    "cor(Matrix(train))\n",
    "# Plot heatmap of correlation matrix\n",
    "heatmap(cor(Matrix(train)))"
   ]
  },
  {
   "cell_type": "code",
   "execution_count": null,
   "metadata": {},
   "outputs": [],
   "source": [
    "# select top 4 columns with highest correlation with SalePrice\n",
    "\n",
    "function getTopCorrelatedColumns(df, num)\n",
    "    corMatrix = cor(Matrix(df))\n",
    "    # get column names\n",
    "    colNames = names(df)\n",
    "    # get correlation values\n",
    "    corValues = corMatrix[:,size(df)[2]]\n",
    "    # sort correlation values\n",
    "    sortedCorValues = sort(corValues, rev=true)\n",
    "    # get top 5 values\n",
    "    topCorValues = sortedCorValues[1:num]\n",
    "    # get column names of top 5 values\n",
    "    topCorColumns = []\n",
    "    for i in 1:num\n",
    "        for j in 1:size(df)[2]\n",
    "            if corValues[j] == topCorValues[i]\n",
    "                push!(topCorColumns, colNames[j])\n",
    "            end\n",
    "        end\n",
    "    end\n",
    "    return topCorColumns\n",
    "end\n",
    "topCorColumns = getTopCorrelatedColumns(train, 5)"
   ]
  },
  {
   "cell_type": "code",
   "execution_count": null,
   "metadata": {},
   "outputs": [],
   "source": [
    "size(train)"
   ]
  },
  {
   "cell_type": "code",
   "execution_count": null,
   "metadata": {},
   "outputs": [],
   "source": [
    "# select columns from list of column names\n",
    "function selectColumns(df, colNames)\n",
    "    X = []\n",
    "    for i in 1:length(colNames)\n",
    "        if i == 1\n",
    "            X = df[:,Symbol(colNames[i])]\n",
    "        else\n",
    "            X = hcat(X, df[:,Symbol(colNames[i])])\n",
    "        end\n",
    "    end\n",
    "    return X\n",
    "end\n",
    "\n",
    "\n",
    "Y = selectColumns(train, topCorColumns[1:1])\n",
    "X = selectColumns(train, topCorColumns[2:4])"
   ]
  },
  {
   "cell_type": "code",
   "execution_count": null,
   "metadata": {},
   "outputs": [],
   "source": [
    "# build linear regression model\n",
    "using Statistics\n",
    "using LinearAlgebra\n",
    "function buildLinearRegressionModel(X, Y)\n",
    "    # get number of rows\n",
    "    m = size(X)[1]\n",
    "    # add column of ones to X\n",
    "    X = hcat(ones(m,1), X)\n",
    "    # get theta\n",
    "    theta = inv(X' * X) * X' * Y\n",
    "    return theta\n",
    "end\n",
    "model = buildLinearRegressionModel(X, Y)\n",
    "\n"
   ]
  },
  {
   "cell_type": "code",
   "execution_count": null,
   "metadata": {},
   "outputs": [],
   "source": [
    "# predict price\n",
    "function predictPrice(model, X)\n",
    "    # get number of rows\n",
    "    m = size(X)[1]\n",
    "    # add column of ones to X\n",
    "    X = hcat(ones(m,1), X)\n",
    "    # get theta\n",
    "    Y = X * model\n",
    "    return Y\n",
    "end\n",
    "Yp = predictPrice(model, X)\n",
    "# model accuracy R^2\n",
    "\n"
   ]
  },
  {
   "cell_type": "code",
   "execution_count": null,
   "metadata": {},
   "outputs": [],
   "source": [
    "# plot predicted price vs actual price\n",
    "scatter(Y, Yp, label=\"Predicted vs Actual Price\")"
   ]
  },
  {
   "cell_type": "code",
   "execution_count": null,
   "metadata": {},
   "outputs": [],
   "source": [
    "# RMS difference between predicted and actual price\n",
    "function getRMS(Y, Yp)\n",
    "    # get number of rows\n",
    "    m = size(Y)[1]\n",
    "    # get difference\n",
    "    diff = Y - Yp\n",
    "    # get square of difference\n",
    "    diffSq = diff .^ 2\n",
    "    # get sum of square of difference\n",
    "    sumDiffSq = sum(diffSq)\n",
    "    # get mean of square of difference\n",
    "    meanDiffSq = sumDiffSq / m\n",
    "    # get root of mean of square of difference\n",
    "    rms = sqrt(meanDiffSq)\n",
    "    return rms\n",
    "end\n",
    "rms = getRMS(Y, Yp)\n",
    "\n",
    "\n"
   ]
  },
  {
   "cell_type": "code",
   "execution_count": null,
   "metadata": {},
   "outputs": [],
   "source": [
    "# get R^2 value. Metric to measure accuracy of model\n",
    "function getR2Accuracy(Y, Yp)\n",
    "    # get number of rows\n",
    "    m = size(Y)[1]\n",
    "    # get mean of Y\n",
    "    Ymean = mean(Y)\n",
    "    # get sum of squared errors\n",
    "    SSE = sum((Y - Yp).^2)\n",
    "    # get sum of squared total\n",
    "    SST = sum((Ymean .-Y).^2)  # note the dot operator and order of subtraction\n",
    "    # get R^2\n",
    "    R2 = 1 - SSE/SST\n",
    "    return R2\n",
    "end \n",
    "getR2Accuracy(Y, Yp)\n"
   ]
  },
  {
   "cell_type": "code",
   "execution_count": null,
   "metadata": {},
   "outputs": [],
   "source": [
    "# selet numeric columns only\n",
    "numericCols = [:LotArea, :OverallQual, :OverallCond, :YearBuilt, :YearRemodAdd, :MasVnrArea, :BsmtFinSF1, :BsmtFinSF2, :BsmtUnfSF, :TotalBsmtSF, :1stFlrSF, :2ndFlrSF, :LowQualFinSF, :GrLivArea, :BsmtFullBath, :BsmtHalfBath, :FullBath, :HalfBath, :BedroomAbvGr, :KitchenAbvGr, :TotRmsAbvGrd, :Fireplaces, :GarageYrBlt, :GarageCars, :GarageArea, :WoodDeckSF, :OpenPorchSF, :EnclosedPorch, :3SsnPorch, :ScreenPorch, :PoolArea, :MiscVal, :MoSold, :YrSold]\n"
   ]
  },
  {
   "cell_type": "code",
   "execution_count": null,
   "metadata": {},
   "outputs": [],
   "source": [
    "# plot histogram of predicted price\n",
    "using Plots\n",
    "histogram(Yp, label=\"Predicted Price\")\n"
   ]
  },
  {
   "cell_type": "code",
   "execution_count": null,
   "metadata": {},
   "outputs": [],
   "source": [
    "# Problem Set\n",
    "# 1. Build a linear regression model to predict the price of houses in the test.csv file\n",
    "# 2. Submit your predictions \n",
    "\n",
    "\n",
    "test = CSV.read(\"test.csv\", DataFrame)\n"
   ]
  },
  {
   "cell_type": "code",
   "execution_count": null,
   "metadata": {},
   "outputs": [],
   "source": [
    "import numpy as np\n",
    "import matplotlib.pyplot as plt\n",
    "import pandas as pd\n",
    "import seaborn as sns\n",
    "sns.pairplot(numeric[cols], height=2.5)\n",
    "plt.show()"
   ]
  },
  {
   "cell_type": "code",
   "execution_count": null,
   "metadata": {},
   "outputs": [],
   "source": [
    "# usefule functions \n",
    "names(train)[33]\n",
    "sum(train[:,33] )\n",
    "# drop problem column\n",
    "select!(train, Not(:PoolArea))\n",
    "size(train)"
   ]
  }
 ],
 "metadata": {
  "kernelspec": {
   "display_name": "Julia 1.7.1",
   "language": "julia",
   "name": "julia-1.7"
  },
  "language_info": {
   "file_extension": ".jl",
   "mimetype": "application/julia",
   "name": "julia",
   "version": "1.7.1"
  },
  "vscode": {
   "interpreter": {
    "hash": "842c0bc757cc2e5bded09c9011562ae876aefe60d9b7a3827c7c03fa357eaa81"
   }
  }
 },
 "nbformat": 4,
 "nbformat_minor": 4
}
